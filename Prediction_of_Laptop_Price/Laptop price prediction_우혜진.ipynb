{
 "cells": [
  {
   "cell_type": "markdown",
   "id": "4972ac26",
   "metadata": {},
   "source": [
    "Laptop price prediction\n",
    "\n",
    "https://www.kaggle.com/competitions/laptop-price-prediction/data?select=test.csv"
   ]
  },
  {
   "cell_type": "markdown",
   "id": "df9557a8",
   "metadata": {},
   "source": [
    "## 라이브러리 로드"
   ]
  },
  {
   "cell_type": "code",
   "execution_count": 70,
   "id": "46c1a145",
   "metadata": {},
   "outputs": [],
   "source": [
    "import pandas as pd\n",
    "import numpy as np\n",
    "import matplotlib.pyplot as plt\n",
    "import seaborn as sns"
   ]
  },
  {
   "cell_type": "markdown",
   "id": "b3c691b3",
   "metadata": {},
   "source": [
    "## 데이터 로드"
   ]
  },
  {
   "cell_type": "code",
   "execution_count": 71,
   "id": "7161f877",
   "metadata": {},
   "outputs": [
    {
     "name": "stdout",
     "output_type": "stream",
     "text": [
      "(950, 11)\n"
     ]
    },
    {
     "data": {
      "text/html": [
       "<div>\n",
       "<style scoped>\n",
       "    .dataframe tbody tr th:only-of-type {\n",
       "        vertical-align: middle;\n",
       "    }\n",
       "\n",
       "    .dataframe tbody tr th {\n",
       "        vertical-align: top;\n",
       "    }\n",
       "\n",
       "    .dataframe thead th {\n",
       "        text-align: right;\n",
       "    }\n",
       "</style>\n",
       "<table border=\"1\" class=\"dataframe\">\n",
       "  <thead>\n",
       "    <tr style=\"text-align: right;\">\n",
       "      <th></th>\n",
       "      <th>Fabricante</th>\n",
       "      <th>Tipo</th>\n",
       "      <th>Pulgadas</th>\n",
       "      <th>ScreenResolution</th>\n",
       "      <th>CPU</th>\n",
       "      <th>RAM</th>\n",
       "      <th>Disco</th>\n",
       "      <th>GPU</th>\n",
       "      <th>OS</th>\n",
       "      <th>Peso</th>\n",
       "      <th>Precio</th>\n",
       "    </tr>\n",
       "    <tr>\n",
       "      <th>Id</th>\n",
       "      <th></th>\n",
       "      <th></th>\n",
       "      <th></th>\n",
       "      <th></th>\n",
       "      <th></th>\n",
       "      <th></th>\n",
       "      <th></th>\n",
       "      <th></th>\n",
       "      <th></th>\n",
       "      <th></th>\n",
       "      <th></th>\n",
       "    </tr>\n",
       "  </thead>\n",
       "  <tbody>\n",
       "    <tr>\n",
       "      <th>0</th>\n",
       "      <td>HP</td>\n",
       "      <td>Notebook</td>\n",
       "      <td>15.6</td>\n",
       "      <td>Full HD 1920x1080</td>\n",
       "      <td>Intel Core i7 7500U 2.7GHz</td>\n",
       "      <td>8GB</td>\n",
       "      <td>256GB SSD</td>\n",
       "      <td>Intel HD Graphics 620</td>\n",
       "      <td>Windows 10</td>\n",
       "      <td>1.84kg</td>\n",
       "      <td>747.0</td>\n",
       "    </tr>\n",
       "    <tr>\n",
       "      <th>1</th>\n",
       "      <td>Acer</td>\n",
       "      <td>Notebook</td>\n",
       "      <td>15.6</td>\n",
       "      <td>Full HD 1920x1080</td>\n",
       "      <td>Intel Core i7 8550U 1.8GHz</td>\n",
       "      <td>8GB</td>\n",
       "      <td>1TB HDD</td>\n",
       "      <td>Nvidia GeForce MX150</td>\n",
       "      <td>Windows 10</td>\n",
       "      <td>2.2kg</td>\n",
       "      <td>422.0</td>\n",
       "    </tr>\n",
       "  </tbody>\n",
       "</table>\n",
       "</div>"
      ],
      "text/plain": [
       "   Fabricante      Tipo  Pulgadas   ScreenResolution  \\\n",
       "Id                                                     \n",
       "0          HP  Notebook      15.6  Full HD 1920x1080   \n",
       "1        Acer  Notebook      15.6  Full HD 1920x1080   \n",
       "\n",
       "                           CPU  RAM      Disco                    GPU  \\\n",
       "Id                                                                      \n",
       "0   Intel Core i7 7500U 2.7GHz  8GB  256GB SSD  Intel HD Graphics 620   \n",
       "1   Intel Core i7 8550U 1.8GHz  8GB    1TB HDD   Nvidia GeForce MX150   \n",
       "\n",
       "            OS    Peso  Precio  \n",
       "Id                              \n",
       "0   Windows 10  1.84kg   747.0  \n",
       "1   Windows 10   2.2kg   422.0  "
      ]
     },
     "execution_count": 71,
     "metadata": {},
     "output_type": "execute_result"
    }
   ],
   "source": [
    "train = pd.read_csv(\"data/laptop/train.csv\", index_col=\"Id\")\n",
    "print(train.shape)\n",
    "train.head(2)"
   ]
  },
  {
   "cell_type": "code",
   "execution_count": 72,
   "id": "12b0b918",
   "metadata": {
    "scrolled": true
   },
   "outputs": [
    {
     "name": "stdout",
     "output_type": "stream",
     "text": [
      "(350, 10)\n"
     ]
    },
    {
     "data": {
      "text/html": [
       "<div>\n",
       "<style scoped>\n",
       "    .dataframe tbody tr th:only-of-type {\n",
       "        vertical-align: middle;\n",
       "    }\n",
       "\n",
       "    .dataframe tbody tr th {\n",
       "        vertical-align: top;\n",
       "    }\n",
       "\n",
       "    .dataframe thead th {\n",
       "        text-align: right;\n",
       "    }\n",
       "</style>\n",
       "<table border=\"1\" class=\"dataframe\">\n",
       "  <thead>\n",
       "    <tr style=\"text-align: right;\">\n",
       "      <th></th>\n",
       "      <th>Fabricante</th>\n",
       "      <th>Tipo</th>\n",
       "      <th>Pulgadas</th>\n",
       "      <th>ScreenResolution</th>\n",
       "      <th>CPU</th>\n",
       "      <th>RAM</th>\n",
       "      <th>Disco</th>\n",
       "      <th>GPU</th>\n",
       "      <th>OS</th>\n",
       "      <th>Peso</th>\n",
       "    </tr>\n",
       "    <tr>\n",
       "      <th>Id</th>\n",
       "      <th></th>\n",
       "      <th></th>\n",
       "      <th></th>\n",
       "      <th></th>\n",
       "      <th></th>\n",
       "      <th></th>\n",
       "      <th></th>\n",
       "      <th></th>\n",
       "      <th></th>\n",
       "      <th></th>\n",
       "    </tr>\n",
       "  </thead>\n",
       "  <tbody>\n",
       "    <tr>\n",
       "      <th>950</th>\n",
       "      <td>Asus</td>\n",
       "      <td>Notebook</td>\n",
       "      <td>15.6</td>\n",
       "      <td>Full HD 1920x1080</td>\n",
       "      <td>Intel Core i3 6006U 2GHz</td>\n",
       "      <td>4GB</td>\n",
       "      <td>256GB SSD</td>\n",
       "      <td>Intel HD Graphics 520</td>\n",
       "      <td>Linux</td>\n",
       "      <td>2kg</td>\n",
       "    </tr>\n",
       "    <tr>\n",
       "      <th>951</th>\n",
       "      <td>HP</td>\n",
       "      <td>Notebook</td>\n",
       "      <td>15.6</td>\n",
       "      <td>1366x768</td>\n",
       "      <td>AMD E-Series 7110 1.8GHz</td>\n",
       "      <td>4GB</td>\n",
       "      <td>500GB HDD</td>\n",
       "      <td>AMD Radeon R2 Graphics</td>\n",
       "      <td>Windows 10</td>\n",
       "      <td>1.86kg</td>\n",
       "    </tr>\n",
       "  </tbody>\n",
       "</table>\n",
       "</div>"
      ],
      "text/plain": [
       "    Fabricante      Tipo  Pulgadas   ScreenResolution  \\\n",
       "Id                                                      \n",
       "950       Asus  Notebook      15.6  Full HD 1920x1080   \n",
       "951         HP  Notebook      15.6           1366x768   \n",
       "\n",
       "                          CPU  RAM      Disco                     GPU  \\\n",
       "Id                                                                      \n",
       "950  Intel Core i3 6006U 2GHz  4GB  256GB SSD   Intel HD Graphics 520   \n",
       "951  AMD E-Series 7110 1.8GHz  4GB  500GB HDD  AMD Radeon R2 Graphics   \n",
       "\n",
       "             OS    Peso  \n",
       "Id                       \n",
       "950       Linux     2kg  \n",
       "951  Windows 10  1.86kg  "
      ]
     },
     "execution_count": 72,
     "metadata": {},
     "output_type": "execute_result"
    }
   ],
   "source": [
    "test = pd.read_csv(\"data/laptop/test.csv\", index_col=\"Id\")\n",
    "print(test.shape)\n",
    "test.head(2)"
   ]
  },
  {
   "cell_type": "code",
   "execution_count": 73,
   "id": "2667b5a6",
   "metadata": {
    "scrolled": true
   },
   "outputs": [
    {
     "data": {
      "text/plain": [
       "{'Precio'}"
      ]
     },
     "execution_count": 73,
     "metadata": {},
     "output_type": "execute_result"
    }
   ],
   "source": [
    "set(train.columns)-set(test.columns)"
   ]
  },
  {
   "cell_type": "code",
   "execution_count": 74,
   "id": "9d8782e4",
   "metadata": {
    "scrolled": false
   },
   "outputs": [
    {
     "name": "stdout",
     "output_type": "stream",
     "text": [
      "(350, 1)\n"
     ]
    },
    {
     "data": {
      "text/html": [
       "<div>\n",
       "<style scoped>\n",
       "    .dataframe tbody tr th:only-of-type {\n",
       "        vertical-align: middle;\n",
       "    }\n",
       "\n",
       "    .dataframe tbody tr th {\n",
       "        vertical-align: top;\n",
       "    }\n",
       "\n",
       "    .dataframe thead th {\n",
       "        text-align: right;\n",
       "    }\n",
       "</style>\n",
       "<table border=\"1\" class=\"dataframe\">\n",
       "  <thead>\n",
       "    <tr style=\"text-align: right;\">\n",
       "      <th></th>\n",
       "      <th>Precio</th>\n",
       "    </tr>\n",
       "    <tr>\n",
       "      <th>Id</th>\n",
       "      <th></th>\n",
       "    </tr>\n",
       "  </thead>\n",
       "  <tbody>\n",
       "    <tr>\n",
       "      <th>950</th>\n",
       "      <td>689.108462</td>\n",
       "    </tr>\n",
       "    <tr>\n",
       "      <th>951</th>\n",
       "      <td>689.108462</td>\n",
       "    </tr>\n",
       "  </tbody>\n",
       "</table>\n",
       "</div>"
      ],
      "text/plain": [
       "         Precio\n",
       "Id             \n",
       "950  689.108462\n",
       "951  689.108462"
      ]
     },
     "execution_count": 74,
     "metadata": {},
     "output_type": "execute_result"
    }
   ],
   "source": [
    "sub = pd.read_csv(\"data/laptop/sample.csv\", index_col=\"Id\")\n",
    "sub = sub.drop(columns=\"Unnamed: 0\")\n",
    "print(sub.shape)\n",
    "sub.head(2)"
   ]
  },
  {
   "cell_type": "markdown",
   "id": "4656ec0b",
   "metadata": {},
   "source": [
    "## 데이터 탐색"
   ]
  },
  {
   "cell_type": "code",
   "execution_count": 75,
   "id": "583b79c0",
   "metadata": {},
   "outputs": [
    {
     "name": "stdout",
     "output_type": "stream",
     "text": [
      "<class 'pandas.core.frame.DataFrame'>\n",
      "Int64Index: 950 entries, 0 to 949\n",
      "Data columns (total 11 columns):\n",
      " #   Column            Non-Null Count  Dtype  \n",
      "---  ------            --------------  -----  \n",
      " 0   Fabricante        950 non-null    object \n",
      " 1   Tipo              950 non-null    object \n",
      " 2   Pulgadas          950 non-null    float64\n",
      " 3   ScreenResolution  950 non-null    object \n",
      " 4   CPU               950 non-null    object \n",
      " 5   RAM               950 non-null    object \n",
      " 6   Disco             950 non-null    object \n",
      " 7   GPU               950 non-null    object \n",
      " 8   OS                950 non-null    object \n",
      " 9   Peso              950 non-null    object \n",
      " 10  Precio            950 non-null    float64\n",
      "dtypes: float64(2), object(9)\n",
      "memory usage: 89.1+ KB\n"
     ]
    }
   ],
   "source": [
    "train.info()"
   ]
  },
  {
   "cell_type": "code",
   "execution_count": 76,
   "id": "b84b6925",
   "metadata": {},
   "outputs": [
    {
     "name": "stdout",
     "output_type": "stream",
     "text": [
      "<class 'pandas.core.frame.DataFrame'>\n",
      "Int64Index: 350 entries, 950 to 1299\n",
      "Data columns (total 10 columns):\n",
      " #   Column            Non-Null Count  Dtype  \n",
      "---  ------            --------------  -----  \n",
      " 0   Fabricante        350 non-null    object \n",
      " 1   Tipo              350 non-null    object \n",
      " 2   Pulgadas          350 non-null    float64\n",
      " 3   ScreenResolution  350 non-null    object \n",
      " 4   CPU               350 non-null    object \n",
      " 5   RAM               350 non-null    object \n",
      " 6   Disco             350 non-null    object \n",
      " 7   GPU               350 non-null    object \n",
      " 8   OS                350 non-null    object \n",
      " 9   Peso              350 non-null    object \n",
      "dtypes: float64(1), object(9)\n",
      "memory usage: 30.1+ KB\n"
     ]
    }
   ],
   "source": [
    "test.info()"
   ]
  },
  {
   "cell_type": "markdown",
   "id": "3e523276",
   "metadata": {},
   "source": [
    "## 기술통계"
   ]
  },
  {
   "cell_type": "code",
   "execution_count": 77,
   "id": "b935f882",
   "metadata": {},
   "outputs": [
    {
     "data": {
      "text/html": [
       "<div>\n",
       "<style scoped>\n",
       "    .dataframe tbody tr th:only-of-type {\n",
       "        vertical-align: middle;\n",
       "    }\n",
       "\n",
       "    .dataframe tbody tr th {\n",
       "        vertical-align: top;\n",
       "    }\n",
       "\n",
       "    .dataframe thead th {\n",
       "        text-align: right;\n",
       "    }\n",
       "</style>\n",
       "<table border=\"1\" class=\"dataframe\">\n",
       "  <thead>\n",
       "    <tr style=\"text-align: right;\">\n",
       "      <th></th>\n",
       "      <th>Pulgadas</th>\n",
       "      <th>Precio</th>\n",
       "    </tr>\n",
       "  </thead>\n",
       "  <tbody>\n",
       "    <tr>\n",
       "      <th>count</th>\n",
       "      <td>950.000000</td>\n",
       "      <td>950.000000</td>\n",
       "    </tr>\n",
       "    <tr>\n",
       "      <th>mean</th>\n",
       "      <td>14.974421</td>\n",
       "      <td>684.927368</td>\n",
       "    </tr>\n",
       "    <tr>\n",
       "      <th>std</th>\n",
       "      <td>1.451727</td>\n",
       "      <td>408.872239</td>\n",
       "    </tr>\n",
       "    <tr>\n",
       "      <th>min</th>\n",
       "      <td>10.100000</td>\n",
       "      <td>107.000000</td>\n",
       "    </tr>\n",
       "    <tr>\n",
       "      <th>25%</th>\n",
       "      <td>14.000000</td>\n",
       "      <td>379.000000</td>\n",
       "    </tr>\n",
       "    <tr>\n",
       "      <th>50%</th>\n",
       "      <td>15.600000</td>\n",
       "      <td>603.000000</td>\n",
       "    </tr>\n",
       "    <tr>\n",
       "      <th>75%</th>\n",
       "      <td>15.600000</td>\n",
       "      <td>912.000000</td>\n",
       "    </tr>\n",
       "    <tr>\n",
       "      <th>max</th>\n",
       "      <td>18.400000</td>\n",
       "      <td>3368.000000</td>\n",
       "    </tr>\n",
       "  </tbody>\n",
       "</table>\n",
       "</div>"
      ],
      "text/plain": [
       "         Pulgadas       Precio\n",
       "count  950.000000   950.000000\n",
       "mean    14.974421   684.927368\n",
       "std      1.451727   408.872239\n",
       "min     10.100000   107.000000\n",
       "25%     14.000000   379.000000\n",
       "50%     15.600000   603.000000\n",
       "75%     15.600000   912.000000\n",
       "max     18.400000  3368.000000"
      ]
     },
     "execution_count": 77,
     "metadata": {},
     "output_type": "execute_result"
    }
   ],
   "source": [
    "train.describe()"
   ]
  },
  {
   "cell_type": "markdown",
   "id": "4522a046",
   "metadata": {},
   "source": [
    "## histplot"
   ]
  },
  {
   "cell_type": "code",
   "execution_count": 78,
   "id": "edc8cffc",
   "metadata": {
    "scrolled": false
   },
   "outputs": [
    {
     "data": {
      "text/plain": [
       "<AxesSubplot:xlabel='Id', ylabel='Precio'>"
      ]
     },
     "execution_count": 78,
     "metadata": {},
     "output_type": "execute_result"
    },
    {
     "data": {
      "image/png": "[encoded data removed]",
      "text/plain": [
       "<Figure size 640x480 with 1 Axes>"
      ]
     },
     "metadata": {},
     "output_type": "display_data"
    }
   ],
   "source": [
    "sns.histplot(data=train, x=train.index, y=\"Precio\")"
   ]
  },
  {
   "cell_type": "code",
   "execution_count": 79,
   "id": "5a5b5ddc",
   "metadata": {
    "scrolled": false
   },
   "outputs": [
    {
     "data": {
      "text/html": [
       "<div>\n",
       "<style scoped>\n",
       "    .dataframe tbody tr th:only-of-type {\n",
       "        vertical-align: middle;\n",
       "    }\n",
       "\n",
       "    .dataframe tbody tr th {\n",
       "        vertical-align: top;\n",
       "    }\n",
       "\n",
       "    .dataframe thead th {\n",
       "        text-align: right;\n",
       "    }\n",
       "</style>\n",
       "<table border=\"1\" class=\"dataframe\">\n",
       "  <thead>\n",
       "    <tr style=\"text-align: right;\">\n",
       "      <th></th>\n",
       "      <th>Fabricante</th>\n",
       "      <th>Tipo</th>\n",
       "      <th>Pulgadas</th>\n",
       "      <th>ScreenResolution</th>\n",
       "      <th>CPU</th>\n",
       "      <th>RAM</th>\n",
       "      <th>Disco</th>\n",
       "      <th>GPU</th>\n",
       "      <th>OS</th>\n",
       "      <th>Peso</th>\n",
       "      <th>Precio</th>\n",
       "    </tr>\n",
       "    <tr>\n",
       "      <th>Id</th>\n",
       "      <th></th>\n",
       "      <th></th>\n",
       "      <th></th>\n",
       "      <th></th>\n",
       "      <th></th>\n",
       "      <th></th>\n",
       "      <th></th>\n",
       "      <th></th>\n",
       "      <th></th>\n",
       "      <th></th>\n",
       "      <th></th>\n",
       "    </tr>\n",
       "  </thead>\n",
       "  <tbody>\n",
       "    <tr>\n",
       "      <th>370</th>\n",
       "      <td>Lenovo</td>\n",
       "      <td>Notebook</td>\n",
       "      <td>15.6</td>\n",
       "      <td>IPS Panel 4K Ultra HD 3840x2160</td>\n",
       "      <td>Intel Xeon E3-1535M v6 3.1GHz</td>\n",
       "      <td>32GB</td>\n",
       "      <td>1TB SSD</td>\n",
       "      <td>Nvidia Quadro M2200M</td>\n",
       "      <td>Windows 10</td>\n",
       "      <td>2.5kg</td>\n",
       "      <td>3000.0</td>\n",
       "    </tr>\n",
       "    <tr>\n",
       "      <th>708</th>\n",
       "      <td>Razer</td>\n",
       "      <td>Gaming</td>\n",
       "      <td>17.3</td>\n",
       "      <td>4K Ultra HD / Touchscreen 3840x2160</td>\n",
       "      <td>Intel Core i7 7820HK 2.9GHz</td>\n",
       "      <td>32GB</td>\n",
       "      <td>512GB SSD</td>\n",
       "      <td>Nvidia GeForce GTX 1080</td>\n",
       "      <td>Windows 10</td>\n",
       "      <td>3.49kg</td>\n",
       "      <td>3368.0</td>\n",
       "    </tr>\n",
       "  </tbody>\n",
       "</table>\n",
       "</div>"
      ],
      "text/plain": [
       "    Fabricante      Tipo  Pulgadas                     ScreenResolution  \\\n",
       "Id                                                                        \n",
       "370     Lenovo  Notebook      15.6      IPS Panel 4K Ultra HD 3840x2160   \n",
       "708      Razer    Gaming      17.3  4K Ultra HD / Touchscreen 3840x2160   \n",
       "\n",
       "                               CPU   RAM      Disco                      GPU  \\\n",
       "Id                                                                             \n",
       "370  Intel Xeon E3-1535M v6 3.1GHz  32GB    1TB SSD     Nvidia Quadro M2200M   \n",
       "708    Intel Core i7 7820HK 2.9GHz  32GB  512GB SSD  Nvidia GeForce GTX 1080   \n",
       "\n",
       "             OS    Peso  Precio  \n",
       "Id                               \n",
       "370  Windows 10   2.5kg  3000.0  \n",
       "708  Windows 10  3.49kg  3368.0  "
      ]
     },
     "execution_count": 79,
     "metadata": {},
     "output_type": "execute_result"
    }
   ],
   "source": [
    "train[train[\"Precio\"] > 2500]"
   ]
  },
  {
   "cell_type": "code",
   "execution_count": 80,
   "id": "eb5c138a",
   "metadata": {},
   "outputs": [
    {
     "data": {
      "text/plain": [
       "(948, 11)"
      ]
     },
     "execution_count": 80,
     "metadata": {},
     "output_type": "execute_result"
    }
   ],
   "source": [
    "train = train[train[\"Precio\"] < 2500].copy()\n",
    "train.shape"
   ]
  },
  {
   "cell_type": "code",
   "execution_count": 81,
   "id": "33d389f2",
   "metadata": {
    "scrolled": true
   },
   "outputs": [
    {
     "data": {
      "text/plain": [
       "Id\n",
       "0    1.84\n",
       "1     2.2\n",
       "2     2.1\n",
       "3     2.4\n",
       "4    2.04\n",
       "Name: Peso, dtype: object"
      ]
     },
     "execution_count": 81,
     "metadata": {},
     "output_type": "execute_result"
    }
   ],
   "source": [
    "train[\"Peso\"] = train[\"Peso\"].str.replace(\"kg\",\"\")\n",
    "train[\"Peso\"].head()"
   ]
  },
  {
   "cell_type": "code",
   "execution_count": 82,
   "id": "10a3d156",
   "metadata": {
    "scrolled": true
   },
   "outputs": [
    {
     "data": {
      "text/plain": [
       "Id\n",
       "0      1.84\n",
       "1      2.20\n",
       "2      2.10\n",
       "3      2.40\n",
       "4      2.04\n",
       "       ... \n",
       "945    2.14\n",
       "946    1.48\n",
       "947    1.20\n",
       "948    2.30\n",
       "949    2.04\n",
       "Name: Peso, Length: 948, dtype: float64"
      ]
     },
     "execution_count": 82,
     "metadata": {},
     "output_type": "execute_result"
    }
   ],
   "source": [
    "train[\"Peso\"] = train[\"Peso\"].astype('float')\n",
    "train[\"Peso\"]"
   ]
  },
  {
   "cell_type": "code",
   "execution_count": 83,
   "id": "d1a00a15",
   "metadata": {},
   "outputs": [
    {
     "data": {
      "text/plain": [
       "Id\n",
       "950       2\n",
       "951    1.86\n",
       "952     2.4\n",
       "953     2.7\n",
       "954    1.95\n",
       "Name: Peso, dtype: object"
      ]
     },
     "execution_count": 83,
     "metadata": {},
     "output_type": "execute_result"
    }
   ],
   "source": [
    "test[\"Peso\"] = test[\"Peso\"].str.replace(\"kg\",\"\")\n",
    "test[\"Peso\"].head()"
   ]
  },
  {
   "cell_type": "code",
   "execution_count": 84,
   "id": "d34c06fd",
   "metadata": {},
   "outputs": [
    {
     "data": {
      "text/plain": [
       "Id\n",
       "950     2.00\n",
       "951     1.86\n",
       "952     2.40\n",
       "953     2.70\n",
       "954     1.95\n",
       "        ... \n",
       "1295    2.19\n",
       "1296    1.05\n",
       "1297    1.91\n",
       "1298    2.10\n",
       "1299    2.00\n",
       "Name: Peso, Length: 350, dtype: float64"
      ]
     },
     "execution_count": 84,
     "metadata": {},
     "output_type": "execute_result"
    }
   ],
   "source": [
    "test[\"Peso\"] = test[\"Peso\"].astype('float')\n",
    "test[\"Peso\"]"
   ]
  },
  {
   "cell_type": "code",
   "execution_count": 85,
   "id": "1f59b29d",
   "metadata": {
    "scrolled": true
   },
   "outputs": [
    {
     "data": {
      "text/plain": [
       "Id\n",
       "0    8\n",
       "1    8\n",
       "2    4\n",
       "3    4\n",
       "4    6\n",
       "Name: RAM, dtype: object"
      ]
     },
     "execution_count": 85,
     "metadata": {},
     "output_type": "execute_result"
    }
   ],
   "source": [
    "train[\"RAM\"] = train[\"RAM\"].str.replace(\"GB\",\"\")\n",
    "train[\"RAM\"].head()"
   ]
  },
  {
   "cell_type": "code",
   "execution_count": 86,
   "id": "0eddd748",
   "metadata": {},
   "outputs": [
    {
     "data": {
      "text/plain": [
       "Id\n",
       "0      8.0\n",
       "1      8.0\n",
       "2      4.0\n",
       "3      4.0\n",
       "4      6.0\n",
       "      ... \n",
       "945    8.0\n",
       "946    4.0\n",
       "947    8.0\n",
       "948    8.0\n",
       "949    8.0\n",
       "Name: RAM, Length: 948, dtype: float64"
      ]
     },
     "execution_count": 86,
     "metadata": {},
     "output_type": "execute_result"
    }
   ],
   "source": [
    "train[\"RAM\"] = train[\"RAM\"].astype('float')\n",
    "train[\"RAM\"]"
   ]
  },
  {
   "cell_type": "code",
   "execution_count": 87,
   "id": "fb5b6949",
   "metadata": {},
   "outputs": [
    {
     "data": {
      "text/plain": [
       "Id\n",
       "950    4\n",
       "951    4\n",
       "952    8\n",
       "953    8\n",
       "954    4\n",
       "Name: RAM, dtype: object"
      ]
     },
     "execution_count": 87,
     "metadata": {},
     "output_type": "execute_result"
    }
   ],
   "source": [
    "test[\"RAM\"] = test[\"RAM\"].str.replace(\"GB\",\"\")\n",
    "test[\"RAM\"].head()"
   ]
  },
  {
   "cell_type": "code",
   "execution_count": 88,
   "id": "98845c9e",
   "metadata": {
    "scrolled": false
   },
   "outputs": [
    {
     "data": {
      "text/plain": [
       "Id\n",
       "950     4.0\n",
       "951     4.0\n",
       "952     8.0\n",
       "953     8.0\n",
       "954     4.0\n",
       "       ... \n",
       "1295    6.0\n",
       "1296    8.0\n",
       "1297    8.0\n",
       "1298    4.0\n",
       "1299    8.0\n",
       "Name: RAM, Length: 350, dtype: float64"
      ]
     },
     "execution_count": 88,
     "metadata": {},
     "output_type": "execute_result"
    }
   ],
   "source": [
    "test[\"RAM\"] = test[\"RAM\"].astype('float')\n",
    "test[\"RAM\"]"
   ]
  },
  {
   "cell_type": "code",
   "execution_count": 89,
   "id": "f41208c4",
   "metadata": {},
   "outputs": [
    {
     "data": {
      "text/html": [
       "<div>\n",
       "<style scoped>\n",
       "    .dataframe tbody tr th:only-of-type {\n",
       "        vertical-align: middle;\n",
       "    }\n",
       "\n",
       "    .dataframe tbody tr th {\n",
       "        vertical-align: top;\n",
       "    }\n",
       "\n",
       "    .dataframe thead th {\n",
       "        text-align: right;\n",
       "    }\n",
       "</style>\n",
       "<table border=\"1\" class=\"dataframe\">\n",
       "  <thead>\n",
       "    <tr style=\"text-align: right;\">\n",
       "      <th></th>\n",
       "      <th>Fabricante</th>\n",
       "      <th>Tipo</th>\n",
       "      <th>Pulgadas</th>\n",
       "      <th>ScreenResolution</th>\n",
       "      <th>CPU</th>\n",
       "      <th>RAM</th>\n",
       "      <th>Disco</th>\n",
       "      <th>GPU</th>\n",
       "      <th>OS</th>\n",
       "      <th>Peso</th>\n",
       "      <th>Precio</th>\n",
       "    </tr>\n",
       "    <tr>\n",
       "      <th>Id</th>\n",
       "      <th></th>\n",
       "      <th></th>\n",
       "      <th></th>\n",
       "      <th></th>\n",
       "      <th></th>\n",
       "      <th></th>\n",
       "      <th></th>\n",
       "      <th></th>\n",
       "      <th></th>\n",
       "      <th></th>\n",
       "      <th></th>\n",
       "    </tr>\n",
       "  </thead>\n",
       "  <tbody>\n",
       "    <tr>\n",
       "      <th>0</th>\n",
       "      <td>HP</td>\n",
       "      <td>Notebook</td>\n",
       "      <td>15.6</td>\n",
       "      <td>Full HD 1920x1080</td>\n",
       "      <td>Intel Core i7 7500U 2.7GHz</td>\n",
       "      <td>8.0</td>\n",
       "      <td>256GB SSD</td>\n",
       "      <td>Intel HD Graphics 620</td>\n",
       "      <td>Windows 10</td>\n",
       "      <td>1.84</td>\n",
       "      <td>747.0</td>\n",
       "    </tr>\n",
       "    <tr>\n",
       "      <th>1</th>\n",
       "      <td>Acer</td>\n",
       "      <td>Notebook</td>\n",
       "      <td>15.6</td>\n",
       "      <td>Full HD 1920x1080</td>\n",
       "      <td>Intel Core i7 8550U 1.8GHz</td>\n",
       "      <td>8.0</td>\n",
       "      <td>1TB HDD</td>\n",
       "      <td>Nvidia GeForce MX150</td>\n",
       "      <td>Windows 10</td>\n",
       "      <td>2.20</td>\n",
       "      <td>422.0</td>\n",
       "    </tr>\n",
       "    <tr>\n",
       "      <th>2</th>\n",
       "      <td>HP</td>\n",
       "      <td>Notebook</td>\n",
       "      <td>15.6</td>\n",
       "      <td>IPS Panel Full HD 1920x1080</td>\n",
       "      <td>Intel Core i7 7500U 2.7GHz</td>\n",
       "      <td>4.0</td>\n",
       "      <td>500GB HDD</td>\n",
       "      <td>AMD Radeon 530</td>\n",
       "      <td>Windows 10</td>\n",
       "      <td>2.10</td>\n",
       "      <td>422.0</td>\n",
       "    </tr>\n",
       "    <tr>\n",
       "      <th>3</th>\n",
       "      <td>Acer</td>\n",
       "      <td>Notebook</td>\n",
       "      <td>15.6</td>\n",
       "      <td>1366x768</td>\n",
       "      <td>AMD A8-Series 7410 2.2GHz</td>\n",
       "      <td>4.0</td>\n",
       "      <td>500GB HDD</td>\n",
       "      <td>AMD Radeon R5</td>\n",
       "      <td>Windows 10</td>\n",
       "      <td>2.40</td>\n",
       "      <td>237.0</td>\n",
       "    </tr>\n",
       "    <tr>\n",
       "      <th>4</th>\n",
       "      <td>HP</td>\n",
       "      <td>Notebook</td>\n",
       "      <td>15.6</td>\n",
       "      <td>Full HD 1920x1080</td>\n",
       "      <td>AMD A9-Series 9410 2.9GHz</td>\n",
       "      <td>6.0</td>\n",
       "      <td>1.0TB Hybrid</td>\n",
       "      <td>AMD Radeon R7 M440</td>\n",
       "      <td>Windows 10</td>\n",
       "      <td>2.04</td>\n",
       "      <td>337.0</td>\n",
       "    </tr>\n",
       "  </tbody>\n",
       "</table>\n",
       "</div>"
      ],
      "text/plain": [
       "   Fabricante      Tipo  Pulgadas             ScreenResolution  \\\n",
       "Id                                                               \n",
       "0          HP  Notebook      15.6            Full HD 1920x1080   \n",
       "1        Acer  Notebook      15.6            Full HD 1920x1080   \n",
       "2          HP  Notebook      15.6  IPS Panel Full HD 1920x1080   \n",
       "3        Acer  Notebook      15.6                     1366x768   \n",
       "4          HP  Notebook      15.6            Full HD 1920x1080   \n",
       "\n",
       "                           CPU  RAM         Disco                    GPU  \\\n",
       "Id                                                                         \n",
       "0   Intel Core i7 7500U 2.7GHz  8.0     256GB SSD  Intel HD Graphics 620   \n",
       "1   Intel Core i7 8550U 1.8GHz  8.0       1TB HDD   Nvidia GeForce MX150   \n",
       "2   Intel Core i7 7500U 2.7GHz  4.0     500GB HDD         AMD Radeon 530   \n",
       "3    AMD A8-Series 7410 2.2GHz  4.0     500GB HDD          AMD Radeon R5   \n",
       "4    AMD A9-Series 9410 2.9GHz  6.0  1.0TB Hybrid     AMD Radeon R7 M440   \n",
       "\n",
       "            OS  Peso  Precio  \n",
       "Id                            \n",
       "0   Windows 10  1.84   747.0  \n",
       "1   Windows 10  2.20   422.0  \n",
       "2   Windows 10  2.10   422.0  \n",
       "3   Windows 10  2.40   237.0  \n",
       "4   Windows 10  2.04   337.0  "
      ]
     },
     "execution_count": 89,
     "metadata": {},
     "output_type": "execute_result"
    }
   ],
   "source": [
    "train.head()"
   ]
  },
  {
   "cell_type": "code",
   "execution_count": 90,
   "id": "c0a1b3ee",
   "metadata": {},
   "outputs": [
    {
     "name": "stdout",
     "output_type": "stream",
     "text": [
      "<class 'pandas.core.frame.DataFrame'>\n",
      "Int64Index: 948 entries, 0 to 949\n",
      "Data columns (total 11 columns):\n",
      " #   Column            Non-Null Count  Dtype  \n",
      "---  ------            --------------  -----  \n",
      " 0   Fabricante        948 non-null    object \n",
      " 1   Tipo              948 non-null    object \n",
      " 2   Pulgadas          948 non-null    float64\n",
      " 3   ScreenResolution  948 non-null    object \n",
      " 4   CPU               948 non-null    object \n",
      " 5   RAM               948 non-null    float64\n",
      " 6   Disco             948 non-null    object \n",
      " 7   GPU               948 non-null    object \n",
      " 8   OS                948 non-null    object \n",
      " 9   Peso              948 non-null    float64\n",
      " 10  Precio            948 non-null    float64\n",
      "dtypes: float64(4), object(7)\n",
      "memory usage: 88.9+ KB\n"
     ]
    }
   ],
   "source": [
    "train.info()"
   ]
  },
  {
   "cell_type": "code",
   "execution_count": 91,
   "id": "b696e112",
   "metadata": {
    "scrolled": false
   },
   "outputs": [
    {
     "data": {
      "image/png": "[encoded data removed]",
      "text/plain": [
       "<Figure size 2000x1500 with 4 Axes>"
      ]
     },
     "metadata": {},
     "output_type": "display_data"
    }
   ],
   "source": [
    "train.hist(figsize=(20,15), bins=50);"
   ]
  },
  {
   "cell_type": "code",
   "execution_count": 92,
   "id": "d2462035",
   "metadata": {
    "scrolled": false
   },
   "outputs": [
    {
     "data": {
      "image/png": "[encoded data removed]",
      "text/plain": [
       "<Figure size 1200x1200 with 4 Axes>"
      ]
     },
     "metadata": {},
     "output_type": "display_data"
    }
   ],
   "source": [
    "test.hist(figsize=(12,12), bins=50);"
   ]
  },
  {
   "cell_type": "code",
   "execution_count": 93,
   "id": "d9ecc4a1",
   "metadata": {},
   "outputs": [
    {
     "data": {
      "text/html": [
       "<div>\n",
       "<style scoped>\n",
       "    .dataframe tbody tr th:only-of-type {\n",
       "        vertical-align: middle;\n",
       "    }\n",
       "\n",
       "    .dataframe tbody tr th {\n",
       "        vertical-align: top;\n",
       "    }\n",
       "\n",
       "    .dataframe thead th {\n",
       "        text-align: right;\n",
       "    }\n",
       "</style>\n",
       "<table border=\"1\" class=\"dataframe\">\n",
       "  <thead>\n",
       "    <tr style=\"text-align: right;\">\n",
       "      <th></th>\n",
       "      <th>Pulgadas</th>\n",
       "      <th>RAM</th>\n",
       "      <th>Peso</th>\n",
       "      <th>Precio</th>\n",
       "    </tr>\n",
       "  </thead>\n",
       "  <tbody>\n",
       "    <tr>\n",
       "      <th>Pulgadas</th>\n",
       "      <td>1.000000</td>\n",
       "      <td>0.246864</td>\n",
       "      <td>0.834036</td>\n",
       "      <td>0.048318</td>\n",
       "    </tr>\n",
       "    <tr>\n",
       "      <th>RAM</th>\n",
       "      <td>0.246864</td>\n",
       "      <td>1.000000</td>\n",
       "      <td>0.381163</td>\n",
       "      <td>0.741111</td>\n",
       "    </tr>\n",
       "    <tr>\n",
       "      <th>Peso</th>\n",
       "      <td>0.834036</td>\n",
       "      <td>0.381163</td>\n",
       "      <td>1.000000</td>\n",
       "      <td>0.181207</td>\n",
       "    </tr>\n",
       "    <tr>\n",
       "      <th>Precio</th>\n",
       "      <td>0.048318</td>\n",
       "      <td>0.741111</td>\n",
       "      <td>0.181207</td>\n",
       "      <td>1.000000</td>\n",
       "    </tr>\n",
       "  </tbody>\n",
       "</table>\n",
       "</div>"
      ],
      "text/plain": [
       "          Pulgadas       RAM      Peso    Precio\n",
       "Pulgadas  1.000000  0.246864  0.834036  0.048318\n",
       "RAM       0.246864  1.000000  0.381163  0.741111\n",
       "Peso      0.834036  0.381163  1.000000  0.181207\n",
       "Precio    0.048318  0.741111  0.181207  1.000000"
      ]
     },
     "execution_count": 93,
     "metadata": {},
     "output_type": "execute_result"
    }
   ],
   "source": [
    "corr = train.corr()\n",
    "corr"
   ]
  },
  {
   "cell_type": "code",
   "execution_count": 94,
   "id": "668f5317",
   "metadata": {},
   "outputs": [
    {
     "data": {
      "text/plain": [
       "array([[1., 1., 1., 1.],\n",
       "       [0., 1., 1., 1.],\n",
       "       [0., 0., 1., 1.],\n",
       "       [0., 0., 0., 1.]])"
      ]
     },
     "execution_count": 94,
     "metadata": {},
     "output_type": "execute_result"
    }
   ],
   "source": [
    "mask = np.triu(np.ones_like(corr))\n",
    "mask"
   ]
  },
  {
   "cell_type": "code",
   "execution_count": 95,
   "id": "c1a5f565",
   "metadata": {
    "scrolled": true
   },
   "outputs": [
    {
     "data": {
      "text/plain": [
       "<AxesSubplot:>"
      ]
     },
     "execution_count": 95,
     "metadata": {},
     "output_type": "execute_result"
    },
    {
     "data": {
      "image/png": "[encoded data removed]",
      "text/plain": [
       "<Figure size 3000x2000 with 2 Axes>"
      ]
     },
     "metadata": {},
     "output_type": "display_data"
    }
   ],
   "source": [
    "plt.figure(figsize=(30,20))\n",
    "sns.heatmap(corr, cmap=\"coolwarm\", vmax=1, vmin=-1, fmt='.2f', annot=True, mask=mask)"
   ]
  },
  {
   "cell_type": "markdown",
   "id": "8a9de032",
   "metadata": {},
   "source": [
    "## 변수 스케일링과 트랜스포메이션"
   ]
  },
  {
   "cell_type": "code",
   "execution_count": 96,
   "id": "f9487c4f",
   "metadata": {
    "scrolled": false
   },
   "outputs": [
    {
     "data": {
      "image/png": "[encoded data removed]",
      "text/plain": [
       "<Figure size 800x300 with 1 Axes>"
      ]
     },
     "metadata": {},
     "output_type": "display_data"
    }
   ],
   "source": [
    "train[\"Precio\"].hist(bins=50, figsize=(8,3));"
   ]
  },
  {
   "cell_type": "code",
   "execution_count": 97,
   "id": "a2af6c99",
   "metadata": {},
   "outputs": [
    {
     "data": {
      "text/html": [
       "<div>\n",
       "<style scoped>\n",
       "    .dataframe tbody tr th:only-of-type {\n",
       "        vertical-align: middle;\n",
       "    }\n",
       "\n",
       "    .dataframe tbody tr th {\n",
       "        vertical-align: top;\n",
       "    }\n",
       "\n",
       "    .dataframe thead th {\n",
       "        text-align: right;\n",
       "    }\n",
       "</style>\n",
       "<table border=\"1\" class=\"dataframe\">\n",
       "  <thead>\n",
       "    <tr style=\"text-align: right;\">\n",
       "      <th></th>\n",
       "      <th>Precio</th>\n",
       "    </tr>\n",
       "    <tr>\n",
       "      <th>Id</th>\n",
       "      <th></th>\n",
       "    </tr>\n",
       "  </thead>\n",
       "  <tbody>\n",
       "    <tr>\n",
       "      <th>0</th>\n",
       "      <td>747.0</td>\n",
       "    </tr>\n",
       "    <tr>\n",
       "      <th>1</th>\n",
       "      <td>422.0</td>\n",
       "    </tr>\n",
       "    <tr>\n",
       "      <th>2</th>\n",
       "      <td>422.0</td>\n",
       "    </tr>\n",
       "    <tr>\n",
       "      <th>3</th>\n",
       "      <td>237.0</td>\n",
       "    </tr>\n",
       "    <tr>\n",
       "      <th>4</th>\n",
       "      <td>337.0</td>\n",
       "    </tr>\n",
       "    <tr>\n",
       "      <th>...</th>\n",
       "      <td>...</td>\n",
       "    </tr>\n",
       "    <tr>\n",
       "      <th>945</th>\n",
       "      <td>331.0</td>\n",
       "    </tr>\n",
       "    <tr>\n",
       "      <th>946</th>\n",
       "      <td>663.0</td>\n",
       "    </tr>\n",
       "    <tr>\n",
       "      <th>947</th>\n",
       "      <td>743.0</td>\n",
       "    </tr>\n",
       "    <tr>\n",
       "      <th>948</th>\n",
       "      <td>494.0</td>\n",
       "    </tr>\n",
       "    <tr>\n",
       "      <th>949</th>\n",
       "      <td>385.0</td>\n",
       "    </tr>\n",
       "  </tbody>\n",
       "</table>\n",
       "<p>948 rows × 1 columns</p>\n",
       "</div>"
      ],
      "text/plain": [
       "     Precio\n",
       "Id         \n",
       "0     747.0\n",
       "1     422.0\n",
       "2     422.0\n",
       "3     237.0\n",
       "4     337.0\n",
       "..      ...\n",
       "945   331.0\n",
       "946   663.0\n",
       "947   743.0\n",
       "948   494.0\n",
       "949   385.0\n",
       "\n",
       "[948 rows x 1 columns]"
      ]
     },
     "execution_count": 97,
     "metadata": {},
     "output_type": "execute_result"
    }
   ],
   "source": [
    "train[[\"Precio\"]]"
   ]
  },
  {
   "cell_type": "code",
   "execution_count": 98,
   "id": "b83f2658",
   "metadata": {},
   "outputs": [],
   "source": [
    "from sklearn.preprocessing import StandardScaler\n",
    "from sklearn.preprocessing import MinMaxScaler\n",
    "from sklearn.preprocessing import RobustScaler"
   ]
  },
  {
   "cell_type": "code",
   "execution_count": 99,
   "id": "90d194d6",
   "metadata": {},
   "outputs": [
    {
     "data": {
      "text/plain": [
       "StandardScaler()"
      ]
     },
     "execution_count": 99,
     "metadata": {},
     "output_type": "execute_result"
    }
   ],
   "source": [
    "ss = StandardScaler()\n",
    "ss"
   ]
  },
  {
   "cell_type": "code",
   "execution_count": 100,
   "id": "1bd6bbed",
   "metadata": {},
   "outputs": [
    {
     "data": {
      "text/html": [
       "<div>\n",
       "<style scoped>\n",
       "    .dataframe tbody tr th:only-of-type {\n",
       "        vertical-align: middle;\n",
       "    }\n",
       "\n",
       "    .dataframe tbody tr th {\n",
       "        vertical-align: top;\n",
       "    }\n",
       "\n",
       "    .dataframe thead th {\n",
       "        text-align: right;\n",
       "    }\n",
       "</style>\n",
       "<table border=\"1\" class=\"dataframe\">\n",
       "  <thead>\n",
       "    <tr style=\"text-align: right;\">\n",
       "      <th></th>\n",
       "      <th>Precio</th>\n",
       "      <th>Precio_ss</th>\n",
       "    </tr>\n",
       "    <tr>\n",
       "      <th>Id</th>\n",
       "      <th></th>\n",
       "      <th></th>\n",
       "    </tr>\n",
       "  </thead>\n",
       "  <tbody>\n",
       "    <tr>\n",
       "      <th>0</th>\n",
       "      <td>747.0</td>\n",
       "      <td>0.171567</td>\n",
       "    </tr>\n",
       "    <tr>\n",
       "      <th>1</th>\n",
       "      <td>422.0</td>\n",
       "      <td>-0.656400</td>\n",
       "    </tr>\n",
       "  </tbody>\n",
       "</table>\n",
       "</div>"
      ],
      "text/plain": [
       "    Precio  Precio_ss\n",
       "Id                   \n",
       "0    747.0   0.171567\n",
       "1    422.0  -0.656400"
      ]
     },
     "execution_count": 100,
     "metadata": {},
     "output_type": "execute_result"
    }
   ],
   "source": [
    "train[[\"Precio_ss\"]] = ss.fit(train[[\"Precio\"]]).transform(train[[\"Precio\"]])\n",
    "train[[\"Precio\", \"Precio_ss\"]].head(2)"
   ]
  },
  {
   "cell_type": "code",
   "execution_count": 101,
   "id": "d7d862df",
   "metadata": {},
   "outputs": [
    {
     "data": {
      "text/plain": [
       "MinMaxScaler()"
      ]
     },
     "execution_count": 101,
     "metadata": {},
     "output_type": "execute_result"
    }
   ],
   "source": [
    "mm = MinMaxScaler()\n",
    "mm"
   ]
  },
  {
   "cell_type": "code",
   "execution_count": 102,
   "id": "04c8082c",
   "metadata": {},
   "outputs": [
    {
     "data": {
      "text/html": [
       "<div>\n",
       "<style scoped>\n",
       "    .dataframe tbody tr th:only-of-type {\n",
       "        vertical-align: middle;\n",
       "    }\n",
       "\n",
       "    .dataframe tbody tr th {\n",
       "        vertical-align: top;\n",
       "    }\n",
       "\n",
       "    .dataframe thead th {\n",
       "        text-align: right;\n",
       "    }\n",
       "</style>\n",
       "<table border=\"1\" class=\"dataframe\">\n",
       "  <thead>\n",
       "    <tr style=\"text-align: right;\">\n",
       "      <th></th>\n",
       "      <th>Precio</th>\n",
       "      <th>Precio_mm</th>\n",
       "    </tr>\n",
       "    <tr>\n",
       "      <th>Id</th>\n",
       "      <th></th>\n",
       "      <th></th>\n",
       "    </tr>\n",
       "  </thead>\n",
       "  <tbody>\n",
       "    <tr>\n",
       "      <th>0</th>\n",
       "      <td>747.0</td>\n",
       "      <td>0.275032</td>\n",
       "    </tr>\n",
       "    <tr>\n",
       "      <th>1</th>\n",
       "      <td>422.0</td>\n",
       "      <td>0.135367</td>\n",
       "    </tr>\n",
       "  </tbody>\n",
       "</table>\n",
       "</div>"
      ],
      "text/plain": [
       "    Precio  Precio_mm\n",
       "Id                   \n",
       "0    747.0   0.275032\n",
       "1    422.0   0.135367"
      ]
     },
     "execution_count": 102,
     "metadata": {},
     "output_type": "execute_result"
    }
   ],
   "source": [
    "train[[\"Precio_mm\"]] = mm.fit(train[[\"Precio\"]]).transform(train[[\"Precio\"]])\n",
    "train[[\"Precio\", \"Precio_mm\"]].head(2)"
   ]
  },
  {
   "cell_type": "code",
   "execution_count": 103,
   "id": "0206126a",
   "metadata": {},
   "outputs": [
    {
     "data": {
      "text/plain": [
       "RobustScaler()"
      ]
     },
     "execution_count": 103,
     "metadata": {},
     "output_type": "execute_result"
    }
   ],
   "source": [
    "rs = RobustScaler()\n",
    "rs"
   ]
  },
  {
   "cell_type": "code",
   "execution_count": 104,
   "id": "34335a59",
   "metadata": {},
   "outputs": [
    {
     "data": {
      "text/html": [
       "<div>\n",
       "<style scoped>\n",
       "    .dataframe tbody tr th:only-of-type {\n",
       "        vertical-align: middle;\n",
       "    }\n",
       "\n",
       "    .dataframe tbody tr th {\n",
       "        vertical-align: top;\n",
       "    }\n",
       "\n",
       "    .dataframe thead th {\n",
       "        text-align: right;\n",
       "    }\n",
       "</style>\n",
       "<table border=\"1\" class=\"dataframe\">\n",
       "  <thead>\n",
       "    <tr style=\"text-align: right;\">\n",
       "      <th></th>\n",
       "      <th>Precio</th>\n",
       "      <th>Precio_rs</th>\n",
       "    </tr>\n",
       "    <tr>\n",
       "      <th>Id</th>\n",
       "      <th></th>\n",
       "      <th></th>\n",
       "    </tr>\n",
       "  </thead>\n",
       "  <tbody>\n",
       "    <tr>\n",
       "      <th>0</th>\n",
       "      <td>747.0</td>\n",
       "      <td>0.274399</td>\n",
       "    </tr>\n",
       "    <tr>\n",
       "      <th>1</th>\n",
       "      <td>422.0</td>\n",
       "      <td>-0.338520</td>\n",
       "    </tr>\n",
       "  </tbody>\n",
       "</table>\n",
       "</div>"
      ],
      "text/plain": [
       "    Precio  Precio_rs\n",
       "Id                   \n",
       "0    747.0   0.274399\n",
       "1    422.0  -0.338520"
      ]
     },
     "execution_count": 104,
     "metadata": {},
     "output_type": "execute_result"
    }
   ],
   "source": [
    "train[[\"Precio_rs\"]] = rs.fit(train[[\"Precio\"]]).transform(train[[\"Precio\"]])\n",
    "train[[\"Precio\", \"Precio_rs\"]].head(2)"
   ]
  },
  {
   "cell_type": "code",
   "execution_count": 105,
   "id": "e5c5e00b",
   "metadata": {},
   "outputs": [
    {
     "data": {
      "text/html": [
       "<div>\n",
       "<style scoped>\n",
       "    .dataframe tbody tr th:only-of-type {\n",
       "        vertical-align: middle;\n",
       "    }\n",
       "\n",
       "    .dataframe tbody tr th {\n",
       "        vertical-align: top;\n",
       "    }\n",
       "\n",
       "    .dataframe thead th {\n",
       "        text-align: right;\n",
       "    }\n",
       "</style>\n",
       "<table border=\"1\" class=\"dataframe\">\n",
       "  <thead>\n",
       "    <tr style=\"text-align: right;\">\n",
       "      <th></th>\n",
       "      <th>Precio</th>\n",
       "      <th>Precio_rs</th>\n",
       "    </tr>\n",
       "    <tr>\n",
       "      <th>Id</th>\n",
       "      <th></th>\n",
       "      <th></th>\n",
       "    </tr>\n",
       "  </thead>\n",
       "  <tbody>\n",
       "    <tr>\n",
       "      <th>0</th>\n",
       "      <td>747.0</td>\n",
       "      <td>0.274399</td>\n",
       "    </tr>\n",
       "    <tr>\n",
       "      <th>1</th>\n",
       "      <td>422.0</td>\n",
       "      <td>-0.338520</td>\n",
       "    </tr>\n",
       "  </tbody>\n",
       "</table>\n",
       "</div>"
      ],
      "text/plain": [
       "    Precio  Precio_rs\n",
       "Id                   \n",
       "0    747.0   0.274399\n",
       "1    422.0  -0.338520"
      ]
     },
     "execution_count": 105,
     "metadata": {},
     "output_type": "execute_result"
    }
   ],
   "source": [
    "train[[\"Precio_rs\"]] = rs.fit_transform(train[[\"Precio\"]])\n",
    "train[[\"Precio\", \"Precio_rs\"]].head(2)"
   ]
  },
  {
   "cell_type": "code",
   "execution_count": 106,
   "id": "35deeae3",
   "metadata": {},
   "outputs": [
    {
     "data": {
      "text/html": [
       "<div>\n",
       "<style scoped>\n",
       "    .dataframe tbody tr th:only-of-type {\n",
       "        vertical-align: middle;\n",
       "    }\n",
       "\n",
       "    .dataframe tbody tr th {\n",
       "        vertical-align: top;\n",
       "    }\n",
       "\n",
       "    .dataframe thead th {\n",
       "        text-align: right;\n",
       "    }\n",
       "</style>\n",
       "<table border=\"1\" class=\"dataframe\">\n",
       "  <thead>\n",
       "    <tr style=\"text-align: right;\">\n",
       "      <th></th>\n",
       "      <th>Precio</th>\n",
       "      <th>Precio_ss</th>\n",
       "      <th>Precio_mm</th>\n",
       "      <th>Precio_rs</th>\n",
       "    </tr>\n",
       "    <tr>\n",
       "      <th>Id</th>\n",
       "      <th></th>\n",
       "      <th></th>\n",
       "      <th></th>\n",
       "      <th></th>\n",
       "    </tr>\n",
       "  </thead>\n",
       "  <tbody>\n",
       "    <tr>\n",
       "      <th>0</th>\n",
       "      <td>747.0</td>\n",
       "      <td>0.171567</td>\n",
       "      <td>0.275032</td>\n",
       "      <td>0.274399</td>\n",
       "    </tr>\n",
       "    <tr>\n",
       "      <th>1</th>\n",
       "      <td>422.0</td>\n",
       "      <td>-0.656400</td>\n",
       "      <td>0.135367</td>\n",
       "      <td>-0.338520</td>\n",
       "    </tr>\n",
       "    <tr>\n",
       "      <th>2</th>\n",
       "      <td>422.0</td>\n",
       "      <td>-0.656400</td>\n",
       "      <td>0.135367</td>\n",
       "      <td>-0.338520</td>\n",
       "    </tr>\n",
       "    <tr>\n",
       "      <th>3</th>\n",
       "      <td>237.0</td>\n",
       "      <td>-1.127705</td>\n",
       "      <td>0.055866</td>\n",
       "      <td>-0.687412</td>\n",
       "    </tr>\n",
       "    <tr>\n",
       "      <th>4</th>\n",
       "      <td>337.0</td>\n",
       "      <td>-0.872946</td>\n",
       "      <td>0.098840</td>\n",
       "      <td>-0.498821</td>\n",
       "    </tr>\n",
       "    <tr>\n",
       "      <th>...</th>\n",
       "      <td>...</td>\n",
       "      <td>...</td>\n",
       "      <td>...</td>\n",
       "      <td>...</td>\n",
       "    </tr>\n",
       "    <tr>\n",
       "      <th>945</th>\n",
       "      <td>331.0</td>\n",
       "      <td>-0.888231</td>\n",
       "      <td>0.096261</td>\n",
       "      <td>-0.510137</td>\n",
       "    </tr>\n",
       "    <tr>\n",
       "      <th>946</th>\n",
       "      <td>663.0</td>\n",
       "      <td>-0.042430</td>\n",
       "      <td>0.238934</td>\n",
       "      <td>0.115983</td>\n",
       "    </tr>\n",
       "    <tr>\n",
       "      <th>947</th>\n",
       "      <td>743.0</td>\n",
       "      <td>0.161377</td>\n",
       "      <td>0.273313</td>\n",
       "      <td>0.266855</td>\n",
       "    </tr>\n",
       "    <tr>\n",
       "      <th>948</th>\n",
       "      <td>494.0</td>\n",
       "      <td>-0.472974</td>\n",
       "      <td>0.166309</td>\n",
       "      <td>-0.202735</td>\n",
       "    </tr>\n",
       "    <tr>\n",
       "      <th>949</th>\n",
       "      <td>385.0</td>\n",
       "      <td>-0.750661</td>\n",
       "      <td>0.119467</td>\n",
       "      <td>-0.408298</td>\n",
       "    </tr>\n",
       "  </tbody>\n",
       "</table>\n",
       "<p>948 rows × 4 columns</p>\n",
       "</div>"
      ],
      "text/plain": [
       "     Precio  Precio_ss  Precio_mm  Precio_rs\n",
       "Id                                          \n",
       "0     747.0   0.171567   0.275032   0.274399\n",
       "1     422.0  -0.656400   0.135367  -0.338520\n",
       "2     422.0  -0.656400   0.135367  -0.338520\n",
       "3     237.0  -1.127705   0.055866  -0.687412\n",
       "4     337.0  -0.872946   0.098840  -0.498821\n",
       "..      ...        ...        ...        ...\n",
       "945   331.0  -0.888231   0.096261  -0.510137\n",
       "946   663.0  -0.042430   0.238934   0.115983\n",
       "947   743.0   0.161377   0.273313   0.266855\n",
       "948   494.0  -0.472974   0.166309  -0.202735\n",
       "949   385.0  -0.750661   0.119467  -0.408298\n",
       "\n",
       "[948 rows x 4 columns]"
      ]
     },
     "execution_count": 106,
     "metadata": {},
     "output_type": "execute_result"
    }
   ],
   "source": [
    "train[[\"Precio\", \"Precio_ss\", \"Precio_mm\", \"Precio_rs\"]]"
   ]
  },
  {
   "cell_type": "code",
   "execution_count": 107,
   "id": "e8c0bc95",
   "metadata": {},
   "outputs": [
    {
     "data": {
      "text/html": [
       "<div>\n",
       "<style scoped>\n",
       "    .dataframe tbody tr th:only-of-type {\n",
       "        vertical-align: middle;\n",
       "    }\n",
       "\n",
       "    .dataframe tbody tr th {\n",
       "        vertical-align: top;\n",
       "    }\n",
       "\n",
       "    .dataframe thead th {\n",
       "        text-align: right;\n",
       "    }\n",
       "</style>\n",
       "<table border=\"1\" class=\"dataframe\">\n",
       "  <thead>\n",
       "    <tr style=\"text-align: right;\">\n",
       "      <th></th>\n",
       "      <th>Precio</th>\n",
       "      <th>Precio_ss</th>\n",
       "      <th>Precio_mm</th>\n",
       "      <th>Precio_rs</th>\n",
       "    </tr>\n",
       "  </thead>\n",
       "  <tbody>\n",
       "    <tr>\n",
       "      <th>count</th>\n",
       "      <td>948.00</td>\n",
       "      <td>948.00</td>\n",
       "      <td>948.00</td>\n",
       "      <td>948.00</td>\n",
       "    </tr>\n",
       "    <tr>\n",
       "      <th>mean</th>\n",
       "      <td>679.66</td>\n",
       "      <td>0.00</td>\n",
       "      <td>0.25</td>\n",
       "      <td>0.15</td>\n",
       "    </tr>\n",
       "    <tr>\n",
       "      <th>std</th>\n",
       "      <td>392.73</td>\n",
       "      <td>1.00</td>\n",
       "      <td>0.17</td>\n",
       "      <td>0.74</td>\n",
       "    </tr>\n",
       "    <tr>\n",
       "      <th>min</th>\n",
       "      <td>107.00</td>\n",
       "      <td>-1.46</td>\n",
       "      <td>0.00</td>\n",
       "      <td>-0.93</td>\n",
       "    </tr>\n",
       "    <tr>\n",
       "      <th>25%</th>\n",
       "      <td>378.75</td>\n",
       "      <td>-0.77</td>\n",
       "      <td>0.12</td>\n",
       "      <td>-0.42</td>\n",
       "    </tr>\n",
       "    <tr>\n",
       "      <th>50%</th>\n",
       "      <td>601.50</td>\n",
       "      <td>-0.20</td>\n",
       "      <td>0.21</td>\n",
       "      <td>0.00</td>\n",
       "    </tr>\n",
       "    <tr>\n",
       "      <th>75%</th>\n",
       "      <td>909.00</td>\n",
       "      <td>0.58</td>\n",
       "      <td>0.34</td>\n",
       "      <td>0.58</td>\n",
       "    </tr>\n",
       "    <tr>\n",
       "      <th>max</th>\n",
       "      <td>2434.00</td>\n",
       "      <td>4.47</td>\n",
       "      <td>1.00</td>\n",
       "      <td>3.46</td>\n",
       "    </tr>\n",
       "  </tbody>\n",
       "</table>\n",
       "</div>"
      ],
      "text/plain": [
       "        Precio  Precio_ss  Precio_mm  Precio_rs\n",
       "count   948.00     948.00     948.00     948.00\n",
       "mean    679.66       0.00       0.25       0.15\n",
       "std     392.73       1.00       0.17       0.74\n",
       "min     107.00      -1.46       0.00      -0.93\n",
       "25%     378.75      -0.77       0.12      -0.42\n",
       "50%     601.50      -0.20       0.21       0.00\n",
       "75%     909.00       0.58       0.34       0.58\n",
       "max    2434.00       4.47       1.00       3.46"
      ]
     },
     "execution_count": 107,
     "metadata": {},
     "output_type": "execute_result"
    }
   ],
   "source": [
    "train[[\"Precio\", \"Precio_ss\", \"Precio_mm\", \"Precio_rs\"]].describe().round(2)"
   ]
  },
  {
   "cell_type": "code",
   "execution_count": 108,
   "id": "de0c5d34",
   "metadata": {},
   "outputs": [
    {
     "data": {
      "image/png": "[encoded data removed]",
      "text/plain": [
       "<Figure size 1200x500 with 4 Axes>"
      ]
     },
     "metadata": {},
     "output_type": "display_data"
    }
   ],
   "source": [
    "train[[\"Precio\", \"Precio_ss\", \"Precio_mm\", \"Precio_rs\"]].hist(bins=50, figsize=(12,5));"
   ]
  },
  {
   "cell_type": "code",
   "execution_count": 109,
   "id": "3b1ed355",
   "metadata": {},
   "outputs": [
    {
     "name": "stderr",
     "output_type": "stream",
     "text": [
      "C:\\Windows\\anaaaa\\lib\\site-packages\\pandas\\core\\arraylike.py:397: RuntimeWarning: invalid value encountered in log1p\n",
      "  result = getattr(ufunc, method)(*inputs, **kwargs)\n"
     ]
    }
   ],
   "source": [
    "train[\"Precio_log1p\"] = np.log1p(train[\"Precio\"])\n",
    "train[\"Precio_ss_log1p\"] = np.log1p(train[\"Precio_ss\"])"
   ]
  },
  {
   "cell_type": "code",
   "execution_count": 110,
   "id": "89ff3661",
   "metadata": {},
   "outputs": [],
   "source": [
    "train[[\"Precio_log1p_ss\"]] = ss.fit_transform(train[[\"Precio_log1p\"]])"
   ]
  },
  {
   "cell_type": "code",
   "execution_count": 111,
   "id": "1c463537",
   "metadata": {},
   "outputs": [
    {
     "data": {
      "text/html": [
       "<div>\n",
       "<style scoped>\n",
       "    .dataframe tbody tr th:only-of-type {\n",
       "        vertical-align: middle;\n",
       "    }\n",
       "\n",
       "    .dataframe tbody tr th {\n",
       "        vertical-align: top;\n",
       "    }\n",
       "\n",
       "    .dataframe thead th {\n",
       "        text-align: right;\n",
       "    }\n",
       "</style>\n",
       "<table border=\"1\" class=\"dataframe\">\n",
       "  <thead>\n",
       "    <tr style=\"text-align: right;\">\n",
       "      <th></th>\n",
       "      <th>Precio_ss</th>\n",
       "      <th>Precio_ss_log1p</th>\n",
       "      <th>Precio_log1p</th>\n",
       "      <th>Precio_log1p_ss</th>\n",
       "    </tr>\n",
       "  </thead>\n",
       "  <tbody>\n",
       "    <tr>\n",
       "      <th>count</th>\n",
       "      <td>948.00</td>\n",
       "      <td>807.00</td>\n",
       "      <td>948.00</td>\n",
       "      <td>948.00</td>\n",
       "    </tr>\n",
       "    <tr>\n",
       "      <th>mean</th>\n",
       "      <td>0.00</td>\n",
       "      <td>-0.22</td>\n",
       "      <td>6.35</td>\n",
       "      <td>-0.00</td>\n",
       "    </tr>\n",
       "    <tr>\n",
       "      <th>std</th>\n",
       "      <td>1.00</td>\n",
       "      <td>1.06</td>\n",
       "      <td>0.60</td>\n",
       "      <td>1.00</td>\n",
       "    </tr>\n",
       "    <tr>\n",
       "      <th>min</th>\n",
       "      <td>-1.46</td>\n",
       "      <td>-4.62</td>\n",
       "      <td>4.68</td>\n",
       "      <td>-2.76</td>\n",
       "    </tr>\n",
       "    <tr>\n",
       "      <th>25%</th>\n",
       "      <td>-0.77</td>\n",
       "      <td>-0.74</td>\n",
       "      <td>5.94</td>\n",
       "      <td>-0.68</td>\n",
       "    </tr>\n",
       "    <tr>\n",
       "      <th>50%</th>\n",
       "      <td>-0.20</td>\n",
       "      <td>-0.02</td>\n",
       "      <td>6.40</td>\n",
       "      <td>0.08</td>\n",
       "    </tr>\n",
       "    <tr>\n",
       "      <th>75%</th>\n",
       "      <td>0.58</td>\n",
       "      <td>0.56</td>\n",
       "      <td>6.81</td>\n",
       "      <td>0.76</td>\n",
       "    </tr>\n",
       "    <tr>\n",
       "      <th>max</th>\n",
       "      <td>4.47</td>\n",
       "      <td>1.70</td>\n",
       "      <td>7.80</td>\n",
       "      <td>2.39</td>\n",
       "    </tr>\n",
       "  </tbody>\n",
       "</table>\n",
       "</div>"
      ],
      "text/plain": [
       "       Precio_ss  Precio_ss_log1p  Precio_log1p  Precio_log1p_ss\n",
       "count     948.00           807.00        948.00           948.00\n",
       "mean        0.00            -0.22          6.35            -0.00\n",
       "std         1.00             1.06          0.60             1.00\n",
       "min        -1.46            -4.62          4.68            -2.76\n",
       "25%        -0.77            -0.74          5.94            -0.68\n",
       "50%        -0.20            -0.02          6.40             0.08\n",
       "75%         0.58             0.56          6.81             0.76\n",
       "max         4.47             1.70          7.80             2.39"
      ]
     },
     "execution_count": 111,
     "metadata": {},
     "output_type": "execute_result"
    }
   ],
   "source": [
    "train[[\"Precio_ss\", \"Precio_ss_log1p\", \"Precio_log1p\", \"Precio_log1p_ss\"]].describe().round(2)"
   ]
  },
  {
   "cell_type": "code",
   "execution_count": 112,
   "id": "17f2bb09",
   "metadata": {},
   "outputs": [
    {
     "data": {
      "text/html": [
       "<div>\n",
       "<style scoped>\n",
       "    .dataframe tbody tr th:only-of-type {\n",
       "        vertical-align: middle;\n",
       "    }\n",
       "\n",
       "    .dataframe tbody tr th {\n",
       "        vertical-align: top;\n",
       "    }\n",
       "\n",
       "    .dataframe thead th {\n",
       "        text-align: right;\n",
       "    }\n",
       "</style>\n",
       "<table border=\"1\" class=\"dataframe\">\n",
       "  <thead>\n",
       "    <tr style=\"text-align: right;\">\n",
       "      <th></th>\n",
       "      <th>Precio_log1p_ss</th>\n",
       "    </tr>\n",
       "    <tr>\n",
       "      <th>Id</th>\n",
       "      <th></th>\n",
       "    </tr>\n",
       "  </thead>\n",
       "  <tbody>\n",
       "    <tr>\n",
       "      <th>0</th>\n",
       "      <td>0.438676</td>\n",
       "    </tr>\n",
       "    <tr>\n",
       "      <th>1</th>\n",
       "      <td>-0.504460</td>\n",
       "    </tr>\n",
       "    <tr>\n",
       "      <th>2</th>\n",
       "      <td>-0.504460</td>\n",
       "    </tr>\n",
       "    <tr>\n",
       "      <th>3</th>\n",
       "      <td>-1.455986</td>\n",
       "    </tr>\n",
       "    <tr>\n",
       "      <th>4</th>\n",
       "      <td>-0.875616</td>\n",
       "    </tr>\n",
       "    <tr>\n",
       "      <th>...</th>\n",
       "      <td>...</td>\n",
       "    </tr>\n",
       "    <tr>\n",
       "      <th>945</th>\n",
       "      <td>-0.905250</td>\n",
       "    </tr>\n",
       "    <tr>\n",
       "      <th>946</th>\n",
       "      <td>0.241586</td>\n",
       "    </tr>\n",
       "    <tr>\n",
       "      <th>947</th>\n",
       "      <td>0.429805</td>\n",
       "    </tr>\n",
       "    <tr>\n",
       "      <th>948</th>\n",
       "      <td>-0.244391</td>\n",
       "    </tr>\n",
       "    <tr>\n",
       "      <th>949</th>\n",
       "      <td>-0.655908</td>\n",
       "    </tr>\n",
       "  </tbody>\n",
       "</table>\n",
       "<p>948 rows × 1 columns</p>\n",
       "</div>"
      ],
      "text/plain": [
       "     Precio_log1p_ss\n",
       "Id                  \n",
       "0           0.438676\n",
       "1          -0.504460\n",
       "2          -0.504460\n",
       "3          -1.455986\n",
       "4          -0.875616\n",
       "..               ...\n",
       "945        -0.905250\n",
       "946         0.241586\n",
       "947         0.429805\n",
       "948        -0.244391\n",
       "949        -0.655908\n",
       "\n",
       "[948 rows x 1 columns]"
      ]
     },
     "execution_count": 112,
     "metadata": {},
     "output_type": "execute_result"
    }
   ],
   "source": [
    "train[[\"Precio_log1p_ss\"]] = ss.fit_transform(train[[\"Precio_log1p\"]])\n",
    "train[[\"Precio_log1p_ss\"]]"
   ]
  },
  {
   "cell_type": "code",
   "execution_count": 113,
   "id": "2b41d75e",
   "metadata": {
    "scrolled": true
   },
   "outputs": [
    {
     "data": {
      "image/png": "[encoded data removed]",
      "text/plain": [
       "<Figure size 1200x500 with 4 Axes>"
      ]
     },
     "metadata": {},
     "output_type": "display_data"
    }
   ],
   "source": [
    "train[[\"Precio_ss\", \"Precio_ss_log1p\", \"Precio_log1p\", \"Precio_log1p_ss\"]].hist(bins=50, figsize=(12,5));"
   ]
  },
  {
   "cell_type": "markdown",
   "id": "b862f23e",
   "metadata": {},
   "source": [
    "## 인코딩"
   ]
  },
  {
   "cell_type": "markdown",
   "id": "bc9db08f",
   "metadata": {},
   "source": [
    "### One-Hot-Encoding"
   ]
  },
  {
   "cell_type": "code",
   "execution_count": 114,
   "id": "694c0f71",
   "metadata": {},
   "outputs": [
    {
     "data": {
      "text/plain": [
       "['Fabricante', 'Tipo', 'ScreenResolution', 'CPU', 'Disco', 'GPU', 'OS']"
      ]
     },
     "execution_count": 114,
     "metadata": {},
     "output_type": "execute_result"
    }
   ],
   "source": [
    "cate_cols = train.select_dtypes(exclude=\"number\").columns.tolist()\n",
    "cate_cols"
   ]
  },
  {
   "cell_type": "code",
   "execution_count": 115,
   "id": "f7005b3b",
   "metadata": {},
   "outputs": [
    {
     "name": "stdout",
     "output_type": "stream",
     "text": [
      "(948, 301) (350, 301)\n"
     ]
    },
    {
     "name": "stderr",
     "output_type": "stream",
     "text": [
      "C:\\Windows\\anaaaa\\lib\\site-packages\\sklearn\\preprocessing\\_encoders.py:170: UserWarning: Found unknown categories in columns [2, 3, 4, 5] during transform. These unknown categories will be encoded as all zeros\n",
      "  warnings.warn(\n"
     ]
    }
   ],
   "source": [
    "from sklearn.preprocessing import OneHotEncoder\n",
    "\n",
    "ohe = OneHotEncoder(drop=\"if_binary\", handle_unknown=\"ignore\")\n",
    "train_ohe = ohe.fit_transform(train.select_dtypes(exclude=\"number\"))\n",
    "test_ohe = ohe.transform(test.select_dtypes(exclude=\"number\"))\n",
    "\n",
    "print(train_ohe.shape, test_ohe.shape)"
   ]
  },
  {
   "cell_type": "code",
   "execution_count": 116,
   "id": "59d8cb39",
   "metadata": {},
   "outputs": [
    {
     "data": {
      "text/plain": [
       "Int64Index([  0,   1,   2,   3,   4,   5,   6,   7,   8,   9,\n",
       "            ...\n",
       "            940, 941, 942, 943, 944, 945, 946, 947, 948, 949],\n",
       "           dtype='int64', name='Id', length=948)"
      ]
     },
     "execution_count": 116,
     "metadata": {},
     "output_type": "execute_result"
    }
   ],
   "source": [
    "train.index"
   ]
  },
  {
   "cell_type": "code",
   "execution_count": 117,
   "id": "0b20c0c1",
   "metadata": {},
   "outputs": [
    {
     "data": {
      "text/plain": [
       "array([[0., 0., 0., ..., 0., 0., 0.],\n",
       "       [1., 0., 0., ..., 0., 0., 0.],\n",
       "       [0., 0., 0., ..., 0., 0., 0.],\n",
       "       ...,\n",
       "       [0., 0., 0., ..., 0., 0., 0.],\n",
       "       [0., 0., 0., ..., 0., 0., 0.],\n",
       "       [0., 0., 0., ..., 0., 0., 0.]])"
      ]
     },
     "execution_count": 117,
     "metadata": {},
     "output_type": "execute_result"
    }
   ],
   "source": [
    "train_ohe.toarray()"
   ]
  },
  {
   "cell_type": "code",
   "execution_count": 118,
   "id": "c188a7f6",
   "metadata": {},
   "outputs": [
    {
     "data": {
      "text/html": [
       "<div>\n",
       "<style scoped>\n",
       "    .dataframe tbody tr th:only-of-type {\n",
       "        vertical-align: middle;\n",
       "    }\n",
       "\n",
       "    .dataframe tbody tr th {\n",
       "        vertical-align: top;\n",
       "    }\n",
       "\n",
       "    .dataframe thead th {\n",
       "        text-align: right;\n",
       "    }\n",
       "</style>\n",
       "<table border=\"1\" class=\"dataframe\">\n",
       "  <thead>\n",
       "    <tr style=\"text-align: right;\">\n",
       "      <th></th>\n",
       "      <th>Fabricante_Acer</th>\n",
       "      <th>Fabricante_Apple</th>\n",
       "      <th>Fabricante_Asus</th>\n",
       "      <th>Fabricante_Chuwi</th>\n",
       "      <th>Fabricante_Dell</th>\n",
       "      <th>Fabricante_Fujitsu</th>\n",
       "      <th>Fabricante_Google</th>\n",
       "      <th>Fabricante_HP</th>\n",
       "      <th>Fabricante_Huawei</th>\n",
       "      <th>Fabricante_LG</th>\n",
       "      <th>...</th>\n",
       "      <th>GPU_Nvidia Quadro M620</th>\n",
       "      <th>OS_Android</th>\n",
       "      <th>OS_Chrome OS</th>\n",
       "      <th>OS_Linux</th>\n",
       "      <th>OS_Mac OS X</th>\n",
       "      <th>OS_No OS</th>\n",
       "      <th>OS_Windows 10</th>\n",
       "      <th>OS_Windows 10 S</th>\n",
       "      <th>OS_Windows 7</th>\n",
       "      <th>OS_macOS</th>\n",
       "    </tr>\n",
       "    <tr>\n",
       "      <th>Id</th>\n",
       "      <th></th>\n",
       "      <th></th>\n",
       "      <th></th>\n",
       "      <th></th>\n",
       "      <th></th>\n",
       "      <th></th>\n",
       "      <th></th>\n",
       "      <th></th>\n",
       "      <th></th>\n",
       "      <th></th>\n",
       "      <th></th>\n",
       "      <th></th>\n",
       "      <th></th>\n",
       "      <th></th>\n",
       "      <th></th>\n",
       "      <th></th>\n",
       "      <th></th>\n",
       "      <th></th>\n",
       "      <th></th>\n",
       "      <th></th>\n",
       "      <th></th>\n",
       "    </tr>\n",
       "  </thead>\n",
       "  <tbody>\n",
       "    <tr>\n",
       "      <th>0</th>\n",
       "      <td>0.0</td>\n",
       "      <td>0.0</td>\n",
       "      <td>0.0</td>\n",
       "      <td>0.0</td>\n",
       "      <td>0.0</td>\n",
       "      <td>0.0</td>\n",
       "      <td>0.0</td>\n",
       "      <td>1.0</td>\n",
       "      <td>0.0</td>\n",
       "      <td>0.0</td>\n",
       "      <td>...</td>\n",
       "      <td>0.0</td>\n",
       "      <td>0.0</td>\n",
       "      <td>0.0</td>\n",
       "      <td>0.0</td>\n",
       "      <td>0.0</td>\n",
       "      <td>0.0</td>\n",
       "      <td>1.0</td>\n",
       "      <td>0.0</td>\n",
       "      <td>0.0</td>\n",
       "      <td>0.0</td>\n",
       "    </tr>\n",
       "    <tr>\n",
       "      <th>1</th>\n",
       "      <td>1.0</td>\n",
       "      <td>0.0</td>\n",
       "      <td>0.0</td>\n",
       "      <td>0.0</td>\n",
       "      <td>0.0</td>\n",
       "      <td>0.0</td>\n",
       "      <td>0.0</td>\n",
       "      <td>0.0</td>\n",
       "      <td>0.0</td>\n",
       "      <td>0.0</td>\n",
       "      <td>...</td>\n",
       "      <td>0.0</td>\n",
       "      <td>0.0</td>\n",
       "      <td>0.0</td>\n",
       "      <td>0.0</td>\n",
       "      <td>0.0</td>\n",
       "      <td>0.0</td>\n",
       "      <td>1.0</td>\n",
       "      <td>0.0</td>\n",
       "      <td>0.0</td>\n",
       "      <td>0.0</td>\n",
       "    </tr>\n",
       "  </tbody>\n",
       "</table>\n",
       "<p>2 rows × 301 columns</p>\n",
       "</div>"
      ],
      "text/plain": [
       "    Fabricante_Acer  Fabricante_Apple  Fabricante_Asus  Fabricante_Chuwi  \\\n",
       "Id                                                                         \n",
       "0               0.0               0.0              0.0               0.0   \n",
       "1               1.0               0.0              0.0               0.0   \n",
       "\n",
       "    Fabricante_Dell  Fabricante_Fujitsu  Fabricante_Google  Fabricante_HP  \\\n",
       "Id                                                                          \n",
       "0               0.0                 0.0                0.0            1.0   \n",
       "1               0.0                 0.0                0.0            0.0   \n",
       "\n",
       "    Fabricante_Huawei  Fabricante_LG  ...  GPU_Nvidia Quadro M620  OS_Android  \\\n",
       "Id                                    ...                                       \n",
       "0                 0.0            0.0  ...                     0.0         0.0   \n",
       "1                 0.0            0.0  ...                     0.0         0.0   \n",
       "\n",
       "    OS_Chrome OS  OS_Linux  OS_Mac OS X  OS_No OS  OS_Windows 10  \\\n",
       "Id                                                                 \n",
       "0            0.0       0.0          0.0       0.0            1.0   \n",
       "1            0.0       0.0          0.0       0.0            1.0   \n",
       "\n",
       "    OS_Windows 10 S  OS_Windows 7  OS_macOS  \n",
       "Id                                           \n",
       "0               0.0           0.0       0.0  \n",
       "1               0.0           0.0       0.0  \n",
       "\n",
       "[2 rows x 301 columns]"
      ]
     },
     "metadata": {},
     "output_type": "display_data"
    },
    {
     "data": {
      "text/html": [
       "<div>\n",
       "<style scoped>\n",
       "    .dataframe tbody tr th:only-of-type {\n",
       "        vertical-align: middle;\n",
       "    }\n",
       "\n",
       "    .dataframe tbody tr th {\n",
       "        vertical-align: top;\n",
       "    }\n",
       "\n",
       "    .dataframe thead th {\n",
       "        text-align: right;\n",
       "    }\n",
       "</style>\n",
       "<table border=\"1\" class=\"dataframe\">\n",
       "  <thead>\n",
       "    <tr style=\"text-align: right;\">\n",
       "      <th></th>\n",
       "      <th>Fabricante_Acer</th>\n",
       "      <th>Fabricante_Apple</th>\n",
       "      <th>Fabricante_Asus</th>\n",
       "      <th>Fabricante_Chuwi</th>\n",
       "      <th>Fabricante_Dell</th>\n",
       "      <th>Fabricante_Fujitsu</th>\n",
       "      <th>Fabricante_Google</th>\n",
       "      <th>Fabricante_HP</th>\n",
       "      <th>Fabricante_Huawei</th>\n",
       "      <th>Fabricante_LG</th>\n",
       "      <th>...</th>\n",
       "      <th>GPU_Nvidia Quadro M620</th>\n",
       "      <th>OS_Android</th>\n",
       "      <th>OS_Chrome OS</th>\n",
       "      <th>OS_Linux</th>\n",
       "      <th>OS_Mac OS X</th>\n",
       "      <th>OS_No OS</th>\n",
       "      <th>OS_Windows 10</th>\n",
       "      <th>OS_Windows 10 S</th>\n",
       "      <th>OS_Windows 7</th>\n",
       "      <th>OS_macOS</th>\n",
       "    </tr>\n",
       "    <tr>\n",
       "      <th>Id</th>\n",
       "      <th></th>\n",
       "      <th></th>\n",
       "      <th></th>\n",
       "      <th></th>\n",
       "      <th></th>\n",
       "      <th></th>\n",
       "      <th></th>\n",
       "      <th></th>\n",
       "      <th></th>\n",
       "      <th></th>\n",
       "      <th></th>\n",
       "      <th></th>\n",
       "      <th></th>\n",
       "      <th></th>\n",
       "      <th></th>\n",
       "      <th></th>\n",
       "      <th></th>\n",
       "      <th></th>\n",
       "      <th></th>\n",
       "      <th></th>\n",
       "      <th></th>\n",
       "    </tr>\n",
       "  </thead>\n",
       "  <tbody>\n",
       "    <tr>\n",
       "      <th>950</th>\n",
       "      <td>0.0</td>\n",
       "      <td>0.0</td>\n",
       "      <td>1.0</td>\n",
       "      <td>0.0</td>\n",
       "      <td>0.0</td>\n",
       "      <td>0.0</td>\n",
       "      <td>0.0</td>\n",
       "      <td>0.0</td>\n",
       "      <td>0.0</td>\n",
       "      <td>0.0</td>\n",
       "      <td>...</td>\n",
       "      <td>0.0</td>\n",
       "      <td>0.0</td>\n",
       "      <td>0.0</td>\n",
       "      <td>1.0</td>\n",
       "      <td>0.0</td>\n",
       "      <td>0.0</td>\n",
       "      <td>0.0</td>\n",
       "      <td>0.0</td>\n",
       "      <td>0.0</td>\n",
       "      <td>0.0</td>\n",
       "    </tr>\n",
       "    <tr>\n",
       "      <th>951</th>\n",
       "      <td>0.0</td>\n",
       "      <td>0.0</td>\n",
       "      <td>0.0</td>\n",
       "      <td>0.0</td>\n",
       "      <td>0.0</td>\n",
       "      <td>0.0</td>\n",
       "      <td>0.0</td>\n",
       "      <td>1.0</td>\n",
       "      <td>0.0</td>\n",
       "      <td>0.0</td>\n",
       "      <td>...</td>\n",
       "      <td>0.0</td>\n",
       "      <td>0.0</td>\n",
       "      <td>0.0</td>\n",
       "      <td>0.0</td>\n",
       "      <td>0.0</td>\n",
       "      <td>0.0</td>\n",
       "      <td>1.0</td>\n",
       "      <td>0.0</td>\n",
       "      <td>0.0</td>\n",
       "      <td>0.0</td>\n",
       "    </tr>\n",
       "  </tbody>\n",
       "</table>\n",
       "<p>2 rows × 301 columns</p>\n",
       "</div>"
      ],
      "text/plain": [
       "     Fabricante_Acer  Fabricante_Apple  Fabricante_Asus  Fabricante_Chuwi  \\\n",
       "Id                                                                          \n",
       "950              0.0               0.0              1.0               0.0   \n",
       "951              0.0               0.0              0.0               0.0   \n",
       "\n",
       "     Fabricante_Dell  Fabricante_Fujitsu  Fabricante_Google  Fabricante_HP  \\\n",
       "Id                                                                           \n",
       "950              0.0                 0.0                0.0            0.0   \n",
       "951              0.0                 0.0                0.0            1.0   \n",
       "\n",
       "     Fabricante_Huawei  Fabricante_LG  ...  GPU_Nvidia Quadro M620  \\\n",
       "Id                                     ...                           \n",
       "950                0.0            0.0  ...                     0.0   \n",
       "951                0.0            0.0  ...                     0.0   \n",
       "\n",
       "     OS_Android  OS_Chrome OS  OS_Linux  OS_Mac OS X  OS_No OS  OS_Windows 10  \\\n",
       "Id                                                                              \n",
       "950         0.0           0.0       1.0          0.0       0.0            0.0   \n",
       "951         0.0           0.0       0.0          0.0       0.0            1.0   \n",
       "\n",
       "     OS_Windows 10 S  OS_Windows 7  OS_macOS  \n",
       "Id                                            \n",
       "950              0.0           0.0       0.0  \n",
       "951              0.0           0.0       0.0  \n",
       "\n",
       "[2 rows x 301 columns]"
      ]
     },
     "metadata": {},
     "output_type": "display_data"
    },
    {
     "data": {
      "text/plain": [
       "((948, 17), (948, 301), (350, 10), (350, 301))"
      ]
     },
     "execution_count": 118,
     "metadata": {},
     "output_type": "execute_result"
    }
   ],
   "source": [
    "df_train_ohe = pd.DataFrame(train_ohe.toarray(), columns=ohe.get_feature_names_out())\n",
    "df_train_ohe.index = train.index\n",
    "\n",
    "df_test_ohe = pd.DataFrame(test_ohe.toarray(), columns=ohe.get_feature_names_out())\n",
    "df_test_ohe.index = test.index\n",
    "\n",
    "display(df_train_ohe.head(2))\n",
    "display(df_test_ohe.head(2))\n",
    "\n",
    "train.shape, df_train_ohe.shape, test.shape, df_test_ohe.shape"
   ]
  },
  {
   "cell_type": "code",
   "execution_count": 119,
   "id": "03db9432",
   "metadata": {},
   "outputs": [
    {
     "data": {
      "text/plain": [
       "((948, 17), (948, 311))"
      ]
     },
     "execution_count": 119,
     "metadata": {},
     "output_type": "execute_result"
    }
   ],
   "source": [
    "train_num = train.select_dtypes(include=\"number\")\n",
    "df_train = pd.concat([train_num, df_train_ohe], axis=1)\n",
    "train.shape, df_train.shape"
   ]
  },
  {
   "cell_type": "code",
   "execution_count": 120,
   "id": "e106804e",
   "metadata": {},
   "outputs": [
    {
     "data": {
      "text/plain": [
       "((350, 10), (350, 304))"
      ]
     },
     "execution_count": 120,
     "metadata": {},
     "output_type": "execute_result"
    }
   ],
   "source": [
    "test_num = test.select_dtypes(include=\"number\")\n",
    "df_test = pd.concat([test_num, df_test_ohe], axis=1)\n",
    "test.shape, df_test.shape"
   ]
  },
  {
   "cell_type": "code",
   "execution_count": 121,
   "id": "29ef862d",
   "metadata": {
    "scrolled": true
   },
   "outputs": [
    {
     "data": {
      "text/html": [
       "<div>\n",
       "<style scoped>\n",
       "    .dataframe tbody tr th:only-of-type {\n",
       "        vertical-align: middle;\n",
       "    }\n",
       "\n",
       "    .dataframe tbody tr th {\n",
       "        vertical-align: top;\n",
       "    }\n",
       "\n",
       "    .dataframe thead th {\n",
       "        text-align: right;\n",
       "    }\n",
       "</style>\n",
       "<table border=\"1\" class=\"dataframe\">\n",
       "  <thead>\n",
       "    <tr style=\"text-align: right;\">\n",
       "      <th></th>\n",
       "    </tr>\n",
       "    <tr>\n",
       "      <th>Id</th>\n",
       "    </tr>\n",
       "  </thead>\n",
       "  <tbody>\n",
       "    <tr>\n",
       "      <th>950</th>\n",
       "    </tr>\n",
       "    <tr>\n",
       "      <th>951</th>\n",
       "    </tr>\n",
       "  </tbody>\n",
       "</table>\n",
       "</div>"
      ],
      "text/plain": [
       "Empty DataFrame\n",
       "Columns: []\n",
       "Index: [950, 951]"
      ]
     },
     "execution_count": 121,
     "metadata": {},
     "output_type": "execute_result"
    }
   ],
   "source": [
    "df_test.select_dtypes(exclude=\"number\")[:2]"
   ]
  },
  {
   "cell_type": "markdown",
   "id": "cc3f3f2b",
   "metadata": {},
   "source": [
    "## RandomForestRegressor"
   ]
  },
  {
   "cell_type": "code",
   "execution_count": 122,
   "id": "881d5f82",
   "metadata": {},
   "outputs": [
    {
     "data": {
      "text/html": [
       "<div>\n",
       "<style scoped>\n",
       "    .dataframe tbody tr th:only-of-type {\n",
       "        vertical-align: middle;\n",
       "    }\n",
       "\n",
       "    .dataframe tbody tr th {\n",
       "        vertical-align: top;\n",
       "    }\n",
       "\n",
       "    .dataframe thead th {\n",
       "        text-align: right;\n",
       "    }\n",
       "</style>\n",
       "<table border=\"1\" class=\"dataframe\">\n",
       "  <thead>\n",
       "    <tr style=\"text-align: right;\">\n",
       "      <th></th>\n",
       "      <th>Fabricante_Acer</th>\n",
       "      <th>Fabricante_Apple</th>\n",
       "      <th>Fabricante_Asus</th>\n",
       "      <th>Fabricante_Chuwi</th>\n",
       "      <th>Fabricante_Dell</th>\n",
       "      <th>Fabricante_Fujitsu</th>\n",
       "      <th>Fabricante_Google</th>\n",
       "      <th>Fabricante_HP</th>\n",
       "      <th>Fabricante_Huawei</th>\n",
       "      <th>Fabricante_LG</th>\n",
       "      <th>...</th>\n",
       "      <th>GPU_Nvidia Quadro M620</th>\n",
       "      <th>OS_Android</th>\n",
       "      <th>OS_Chrome OS</th>\n",
       "      <th>OS_Linux</th>\n",
       "      <th>OS_Mac OS X</th>\n",
       "      <th>OS_No OS</th>\n",
       "      <th>OS_Windows 10</th>\n",
       "      <th>OS_Windows 10 S</th>\n",
       "      <th>OS_Windows 7</th>\n",
       "      <th>OS_macOS</th>\n",
       "    </tr>\n",
       "    <tr>\n",
       "      <th>Id</th>\n",
       "      <th></th>\n",
       "      <th></th>\n",
       "      <th></th>\n",
       "      <th></th>\n",
       "      <th></th>\n",
       "      <th></th>\n",
       "      <th></th>\n",
       "      <th></th>\n",
       "      <th></th>\n",
       "      <th></th>\n",
       "      <th></th>\n",
       "      <th></th>\n",
       "      <th></th>\n",
       "      <th></th>\n",
       "      <th></th>\n",
       "      <th></th>\n",
       "      <th></th>\n",
       "      <th></th>\n",
       "      <th></th>\n",
       "      <th></th>\n",
       "      <th></th>\n",
       "    </tr>\n",
       "  </thead>\n",
       "  <tbody>\n",
       "    <tr>\n",
       "      <th>0</th>\n",
       "      <td>0.0</td>\n",
       "      <td>0.0</td>\n",
       "      <td>0.0</td>\n",
       "      <td>0.0</td>\n",
       "      <td>0.0</td>\n",
       "      <td>0.0</td>\n",
       "      <td>0.0</td>\n",
       "      <td>1.0</td>\n",
       "      <td>0.0</td>\n",
       "      <td>0.0</td>\n",
       "      <td>...</td>\n",
       "      <td>0.0</td>\n",
       "      <td>0.0</td>\n",
       "      <td>0.0</td>\n",
       "      <td>0.0</td>\n",
       "      <td>0.0</td>\n",
       "      <td>0.0</td>\n",
       "      <td>1.0</td>\n",
       "      <td>0.0</td>\n",
       "      <td>0.0</td>\n",
       "      <td>0.0</td>\n",
       "    </tr>\n",
       "    <tr>\n",
       "      <th>1</th>\n",
       "      <td>1.0</td>\n",
       "      <td>0.0</td>\n",
       "      <td>0.0</td>\n",
       "      <td>0.0</td>\n",
       "      <td>0.0</td>\n",
       "      <td>0.0</td>\n",
       "      <td>0.0</td>\n",
       "      <td>0.0</td>\n",
       "      <td>0.0</td>\n",
       "      <td>0.0</td>\n",
       "      <td>...</td>\n",
       "      <td>0.0</td>\n",
       "      <td>0.0</td>\n",
       "      <td>0.0</td>\n",
       "      <td>0.0</td>\n",
       "      <td>0.0</td>\n",
       "      <td>0.0</td>\n",
       "      <td>1.0</td>\n",
       "      <td>0.0</td>\n",
       "      <td>0.0</td>\n",
       "      <td>0.0</td>\n",
       "    </tr>\n",
       "  </tbody>\n",
       "</table>\n",
       "<p>2 rows × 301 columns</p>\n",
       "</div>"
      ],
      "text/plain": [
       "    Fabricante_Acer  Fabricante_Apple  Fabricante_Asus  Fabricante_Chuwi  \\\n",
       "Id                                                                         \n",
       "0               0.0               0.0              0.0               0.0   \n",
       "1               1.0               0.0              0.0               0.0   \n",
       "\n",
       "    Fabricante_Dell  Fabricante_Fujitsu  Fabricante_Google  Fabricante_HP  \\\n",
       "Id                                                                          \n",
       "0               0.0                 0.0                0.0            1.0   \n",
       "1               0.0                 0.0                0.0            0.0   \n",
       "\n",
       "    Fabricante_Huawei  Fabricante_LG  ...  GPU_Nvidia Quadro M620  OS_Android  \\\n",
       "Id                                    ...                                       \n",
       "0                 0.0            0.0  ...                     0.0         0.0   \n",
       "1                 0.0            0.0  ...                     0.0         0.0   \n",
       "\n",
       "    OS_Chrome OS  OS_Linux  OS_Mac OS X  OS_No OS  OS_Windows 10  \\\n",
       "Id                                                                 \n",
       "0            0.0       0.0          0.0       0.0            1.0   \n",
       "1            0.0       0.0          0.0       0.0            1.0   \n",
       "\n",
       "    OS_Windows 10 S  OS_Windows 7  OS_macOS  \n",
       "Id                                           \n",
       "0               0.0           0.0       0.0  \n",
       "1               0.0           0.0       0.0  \n",
       "\n",
       "[2 rows x 301 columns]"
      ]
     },
     "execution_count": 122,
     "metadata": {},
     "output_type": "execute_result"
    }
   ],
   "source": [
    "df_train_ohe.head(2)"
   ]
  },
  {
   "cell_type": "code",
   "execution_count": 123,
   "id": "d031852f",
   "metadata": {},
   "outputs": [
    {
     "name": "stdout",
     "output_type": "stream",
     "text": [
      "(948, 301) (350, 301)\n",
      "0 0\n"
     ]
    }
   ],
   "source": [
    "X_train = df_train_ohe.loc[train.index]\n",
    "X_test = df_test_ohe.loc[test.index]\n",
    "\n",
    "print(X_train.shape, X_test.shape)\n",
    "print(X_train.isnull().sum().sum(), X_test.isnull().sum().sum())"
   ]
  },
  {
   "cell_type": "code",
   "execution_count": 124,
   "id": "056c4c67",
   "metadata": {},
   "outputs": [
    {
     "data": {
      "text/plain": [
       "'Precio_log1p'"
      ]
     },
     "execution_count": 124,
     "metadata": {},
     "output_type": "execute_result"
    }
   ],
   "source": [
    "label_name=\"Precio_log1p\"\n",
    "label_name"
   ]
  },
  {
   "cell_type": "code",
   "execution_count": 125,
   "id": "94b81180",
   "metadata": {
    "scrolled": true
   },
   "outputs": [
    {
     "name": "stdout",
     "output_type": "stream",
     "text": [
      "(948,)\n"
     ]
    },
    {
     "data": {
      "text/plain": [
       "Id\n",
       "0    6.617403\n",
       "1    6.047372\n",
       "Name: Precio_log1p, dtype: float64"
      ]
     },
     "execution_count": 125,
     "metadata": {},
     "output_type": "execute_result"
    }
   ],
   "source": [
    "y_train = train[\"Precio_log1p\"]\n",
    "print(y_train.shape)\n",
    "y_train.head(2)"
   ]
  },
  {
   "cell_type": "code",
   "execution_count": 126,
   "id": "89a06a41",
   "metadata": {},
   "outputs": [
    {
     "data": {
      "text/plain": [
       "RandomForestRegressor(random_state=42)"
      ]
     },
     "execution_count": 126,
     "metadata": {},
     "output_type": "execute_result"
    }
   ],
   "source": [
    "from sklearn.ensemble import RandomForestRegressor\n",
    "\n",
    "model = RandomForestRegressor(random_state=42)\n",
    "model"
   ]
  },
  {
   "cell_type": "code",
   "execution_count": 127,
   "id": "1ba07910",
   "metadata": {},
   "outputs": [
    {
     "data": {
      "text/plain": [
       "KFold(n_splits=5, random_state=42, shuffle=True)"
      ]
     },
     "execution_count": 127,
     "metadata": {},
     "output_type": "execute_result"
    }
   ],
   "source": [
    "from sklearn.model_selection import KFold\n",
    "\n",
    "kf = KFold(n_splits=5, shuffle=True, random_state=42)\n",
    "kf"
   ]
  },
  {
   "cell_type": "code",
   "execution_count": 128,
   "id": "d6b95ed1",
   "metadata": {},
   "outputs": [
    {
     "data": {
      "text/plain": [
       "array([6.65068324, 6.18728365, 6.10260923, 5.52729904, 5.97263799,\n",
       "       6.57119218, 6.47808079, 5.91799947, 5.14016545, 6.35765609,\n",
       "       6.9614535 , 6.497246  , 6.38121728, 5.51753775, 5.1274162 ,\n",
       "       6.67343227, 5.91142194, 5.38573233, 6.18951541, 6.36257816,\n",
       "       6.30626228, 6.61364495, 5.93907308, 6.24280704, 7.1076533 ,\n",
       "       6.81422247, 6.36060368, 6.73767818, 6.51519368, 6.91598385,\n",
       "       5.90990036, 6.54020217, 6.43636406, 6.16811593, 5.16143125,\n",
       "       6.67042718, 5.64588114, 6.50689419, 6.76479964, 6.15818508,\n",
       "       6.00581186, 6.8049535 , 6.339643  , 5.52065992, 6.87483395,\n",
       "       5.81701816, 6.13644898, 6.52952059, 5.56220838, 7.08103615,\n",
       "       6.3474667 , 6.11981692, 6.92707414, 7.06951599, 6.97963731,\n",
       "       7.01272608, 6.04867322, 6.06710818, 7.19076255, 6.9926072 ,\n",
       "       7.03569498, 6.17605095, 6.03206334, 5.6781312 , 6.30538605,\n",
       "       6.8787312 , 5.65465452, 5.57445369, 6.35472521, 6.4777994 ,\n",
       "       6.58783725, 5.68013527, 5.5380671 , 6.31984958, 5.8574507 ,\n",
       "       6.22364672, 6.50065989, 5.89815588, 5.97364388, 5.24941233,\n",
       "       6.42519983, 6.21755525, 6.46160385, 6.5765387 , 7.01680472,\n",
       "       7.0009991 , 6.46718529, 6.54718565, 7.10281509, 6.11567431,\n",
       "       6.77485911, 6.17753176, 6.92091168, 6.80303325, 7.00981859,\n",
       "       6.11038365, 6.71688383, 6.98892983, 6.40276385, 6.11405247,\n",
       "       5.40584004, 6.06640062, 5.78997105, 6.19526722, 5.99452832,\n",
       "       6.83798583, 6.68323819, 6.05380877, 6.75022635, 6.22268628,\n",
       "       7.06033058, 6.25270363, 6.87795263, 6.23003135, 7.10710337,\n",
       "       5.96324929, 6.63969393, 6.39817335, 7.08543743, 5.77202883,\n",
       "       5.38725312, 5.8400775 , 5.29673823, 6.6503431 , 6.41600448,\n",
       "       5.35065015, 7.20982846, 6.66075721, 6.14810592, 5.88304236,\n",
       "       5.24610083, 6.65068324, 6.56098496, 6.73878109, 7.02352836,\n",
       "       6.65488828, 6.33983646, 5.36343223, 5.82214582, 6.131367  ,\n",
       "       6.31201838, 6.61234617, 6.6896674 , 6.69929407, 5.55744641,\n",
       "       6.78981484, 7.29867047, 5.40124682, 7.13855057, 6.2718399 ,\n",
       "       5.20183055, 6.15738696, 6.43840201, 5.61978741, 5.73923844,\n",
       "       6.20848775, 6.38536346, 6.52360839, 5.72725734, 6.3075862 ,\n",
       "       6.24178902, 6.80060532, 6.19333194, 6.56282365, 6.50425669,\n",
       "       6.46876558, 6.87847805, 5.8396863 , 6.23867007, 5.46095987,\n",
       "       5.44194138, 5.71348995, 5.58998423, 6.627173  , 6.45555319,\n",
       "       5.26207582, 7.42585378, 6.0409191 , 6.29499021, 6.50348249,\n",
       "       6.20824194, 5.10880605, 6.6174915 , 6.74210298, 6.87404267,\n",
       "       5.52359604, 5.99866288, 6.9394444 , 6.21795884, 6.35225965,\n",
       "       6.98186374, 7.24565391, 6.20774381, 6.35227123, 6.70424544,\n",
       "       6.63512118, 6.78482117, 5.76599056, 7.06939165, 6.38852945,\n",
       "       6.82077238, 6.31392417, 6.78063732, 6.08789774, 6.51545024,\n",
       "       5.47799316, 6.90247437, 5.51503007, 6.57443221, 6.61651973,\n",
       "       6.59675298, 6.92811201, 6.4105347 , 7.03569498, 6.28272545,\n",
       "       6.34840977, 5.1108673 , 5.42829671, 5.57804648, 6.99036811,\n",
       "       7.52969081, 5.86153491, 6.33607598, 5.41271326, 6.71625203,\n",
       "       6.54371702, 6.77312598, 7.21233742, 6.04058768, 5.50281671,\n",
       "       5.88317116, 7.24985983, 6.51882402, 5.53310732, 5.84488309,\n",
       "       6.32348915, 5.53311738, 6.15964797, 6.30990569, 6.0588258 ,\n",
       "       6.26307343, 6.47485967, 6.30904912, 6.77973548, 6.53180851,\n",
       "       5.65550638, 6.92528097, 6.74251798, 6.37328014, 6.04294491,\n",
       "       6.5340038 , 6.25487477, 6.92369409, 6.42958733, 6.78108003,\n",
       "       6.30374214, 5.4503623 , 5.94431418, 5.87281673, 5.72795185,\n",
       "       6.2502837 , 5.78109474, 7.29585183, 6.40136514, 6.72435983,\n",
       "       5.62232931, 6.02918039, 6.4650469 , 6.16261877, 6.22434702,\n",
       "       6.9874074 , 6.11338878, 6.70739022, 6.44667852, 6.25105371,\n",
       "       6.92226559, 5.11004289, 6.61918565, 5.54395053, 6.58804868,\n",
       "       6.45656837, 5.97101024, 7.25130216, 5.91514353, 7.15742797,\n",
       "       5.2400271 , 6.17354115, 5.66402519, 6.50168794, 6.57630122,\n",
       "       5.6998465 , 6.79824847, 6.89735774, 6.78009722, 6.06109012,\n",
       "       7.0965249 , 5.49226792, 6.38196337, 5.13055559, 6.27715067,\n",
       "       6.44813995, 6.58569932, 6.54019525, 6.6772006 , 6.27146765,\n",
       "       6.49333956, 7.01964006, 6.2881077 , 5.43424561, 6.84221362,\n",
       "       5.68240718, 6.81376248, 6.03151058, 6.33165266, 5.40814232,\n",
       "       6.17166763, 6.60501591, 6.41892732, 5.26596559, 5.8197674 ,\n",
       "       6.39858402, 5.90351777, 7.28930875, 7.02862884, 7.45621297,\n",
       "       6.56987683, 5.74243689, 6.30184056, 5.6091102 , 6.71095667,\n",
       "       7.05375737, 6.34227035, 6.59494537, 6.25388926, 6.04529035,\n",
       "       6.02789176, 5.50850732, 6.01686079, 6.97376793, 7.54412888,\n",
       "       7.07868518, 7.52487363, 6.56163638, 5.44788674, 5.68158249,\n",
       "       6.26499808, 6.55329602, 6.64881168, 6.6503431 , 6.03042457,\n",
       "       7.02261872, 6.65068324, 6.67755797, 7.09301493, 7.12480453,\n",
       "       6.340874  , 5.45009076, 6.9539595 , 6.6892484 , 6.53180851,\n",
       "       6.91448689, 6.81998529, 7.01845141, 6.55817909, 6.13930785,\n",
       "       6.07908243, 6.52688539, 5.87958468, 5.4786304 , 6.91448689,\n",
       "       5.90351777, 6.73135103, 5.75034457, 6.76802342, 7.18687407,\n",
       "       5.90976883, 5.07021079, 5.69633609, 6.53721042, 6.15804398,\n",
       "       5.79274862, 7.01938717, 6.3189818 , 6.22455492, 6.45119484,\n",
       "       6.19177608, 6.92190363, 6.63564416, 6.6453987 , 6.68949306,\n",
       "       7.16323151, 6.76191049, 6.85588806, 6.22164416, 6.92714884,\n",
       "       6.79340535, 5.91714993, 5.50105217, 5.64595839, 6.64017238,\n",
       "       6.68276622, 6.92466343, 6.72805919, 7.02453851, 6.75806703,\n",
       "       5.83221045, 6.83798583, 7.16855038, 6.81372144, 6.37078745,\n",
       "       5.27256853, 5.45894206, 6.72955268, 5.87631921, 6.31955182,\n",
       "       6.26708736, 6.66243506, 6.11953699, 6.92289002, 6.51009175,\n",
       "       6.84629627, 7.07902391, 6.48664048, 5.56792894, 6.26681266,\n",
       "       6.31490796, 5.75671135, 5.84587275, 6.0043253 , 5.2750218 ,\n",
       "       6.22181336, 6.20280308, 5.67020826, 6.19394992, 5.80944104,\n",
       "       6.56092447, 6.21324139, 6.30276965, 5.91514353, 6.6453987 ,\n",
       "       6.40651252, 6.11784466, 5.91808826, 7.10529868, 6.91283874,\n",
       "       6.7739224 , 6.31385488, 6.25772931, 6.65107381, 5.22997751,\n",
       "       6.67073639, 6.39841092, 6.05879719, 6.02801222, 6.42487209,\n",
       "       7.10984726, 6.7560954 , 6.89321653, 5.94452731, 6.7884808 ,\n",
       "       6.20627341, 5.07591716, 6.40903213, 6.1767601 , 6.05644626,\n",
       "       5.98585323, 6.13541288, 6.96356418, 6.61083267, 5.85577125,\n",
       "       5.16132607, 6.19010388, 6.50164645, 6.19924206, 7.22885974,\n",
       "       5.38115334, 5.60113527, 6.24164722, 6.2363498 , 6.45194294,\n",
       "       7.05162343, 6.76092213, 6.96592444, 6.25585793, 6.52414899,\n",
       "       5.74360775, 7.05050117, 6.32345907, 5.86456785, 6.12004562,\n",
       "       6.74061054, 6.23781097, 6.54718565, 5.69292355, 6.62181429,\n",
       "       6.24963564, 6.73286526, 6.28487847, 6.67823314, 6.28738942,\n",
       "       6.57936736, 7.12656653, 6.96978899, 6.26766425, 5.44875716,\n",
       "       5.45507092, 5.80023296, 6.26317456, 5.29523226, 5.93278563,\n",
       "       6.93444375, 6.25499895, 6.86742313, 6.98937741, 6.65287715,\n",
       "       6.40414101, 5.79191945, 6.88575237, 6.53957502, 5.78109474,\n",
       "       6.56833248, 5.64043193, 6.01138296, 5.90759004, 7.05267318,\n",
       "       5.87565241, 6.42611067, 5.64664824, 6.79675   , 6.39395291,\n",
       "       6.339643  , 6.50115105, 6.40518919, 7.06930874, 6.60242158,\n",
       "       6.5645603 , 5.95748148, 6.44024752, 6.65488828, 6.40796587,\n",
       "       7.04987318, 6.7084755 , 6.34846649, 5.71053754, 6.83562451,\n",
       "       6.91196822, 6.88372203, 6.83957521, 5.95433738, 5.98547037,\n",
       "       6.55280898, 6.88759462, 6.0903497 , 6.13433308, 7.20213789,\n",
       "       6.97188143, 6.44919559, 6.69254627, 7.20841721, 6.97575394,\n",
       "       6.20944641, 6.26701198, 5.66865548, 7.0590307 , 6.82669341,\n",
       "       7.10984726, 5.9668623 , 5.66843989, 6.5078699 , 6.56507216,\n",
       "       6.11501927, 5.43397065, 5.74243689, 5.72707424, 5.61832661,\n",
       "       6.51847343, 5.8507081 , 7.23494709, 6.21768367, 5.53125838,\n",
       "       5.92805125, 6.15266665, 6.37328014, 6.77528879, 6.72601206,\n",
       "       6.75022635, 6.44622011, 6.26500672, 5.55665061, 6.45703022,\n",
       "       7.03178425, 6.41388478, 7.28988112, 5.66822184, 6.51398879,\n",
       "       6.42962934, 5.39694965, 6.11889742, 7.1639898 , 7.45862705,\n",
       "       6.17393776, 6.0334624 , 5.39378462, 6.01257546, 6.72827385,\n",
       "       5.6167166 , 6.33393973, 5.94314639, 6.43473389, 6.32133505,\n",
       "       6.09450586, 5.71415531, 7.01238246, 5.89357088, 6.8700292 ,\n",
       "       6.60232143, 6.49569039, 6.14346902, 6.46160385, 6.63552899,\n",
       "       7.08327656, 6.02093263, 5.62258044, 6.62277025, 6.25270363,\n",
       "       6.69834234, 6.53745214, 6.6093045 , 6.63972659, 5.67278871,\n",
       "       7.04016454, 5.92939667, 7.0944523 , 6.81987003, 5.59313709,\n",
       "       6.90639585, 7.09540315, 6.75638199, 6.78214034, 6.73304468,\n",
       "       6.6902101 , 7.12562738, 6.82281577, 6.25585793, 6.62693907,\n",
       "       5.33679135, 6.12723798, 7.05267318, 6.57103259, 6.89385475,\n",
       "       6.98893606, 6.85292844, 6.75106379, 6.8950709 , 6.80340981,\n",
       "       6.82607858, 7.04383178, 6.21759938, 6.50444554, 6.2444311 ,\n",
       "       6.65156799, 7.05939162, 6.8059077 , 5.27425004, 7.04840024,\n",
       "       6.54417599, 7.33522566, 5.88755618, 6.76784864, 6.77935115,\n",
       "       6.13609225, 6.98097869, 6.4107302 , 6.63402327, 5.18602175,\n",
       "       6.32320967, 6.01104489, 6.94345552, 7.24257957, 5.90841384,\n",
       "       6.59791516, 6.02179928, 7.10957648, 6.51692428, 6.25605624,\n",
       "       5.31918079, 5.19669342, 5.93376329, 6.24852177, 6.23563887,\n",
       "       6.19244653, 6.95850364, 7.00176721, 5.77537029, 7.10990238,\n",
       "       7.12506195, 6.91462736, 6.20834677, 6.41734143, 7.20560467,\n",
       "       6.58149579, 6.17585876, 7.12966418, 6.46130249, 6.98346225,\n",
       "       7.25130216, 6.78481773, 5.29673823, 6.49569039, 5.9362777 ,\n",
       "       6.45703022, 6.38656725, 7.02507981, 7.18762988, 6.21768367,\n",
       "       6.11841041, 6.39294611, 5.21851626, 6.26883633, 6.52694573,\n",
       "       6.5140996 , 6.40183965, 6.71865306, 6.13863993, 7.26173883,\n",
       "       6.53003019, 5.96021309, 6.94702   , 6.67039763, 6.71044027,\n",
       "       5.43719742, 6.08537194, 6.30485612, 5.61194031, 5.15069201,\n",
       "       6.00032058, 5.98137843, 5.88824317, 5.58030869, 6.55858995,\n",
       "       6.31385178, 5.38264904, 6.95509741, 5.8905334 , 6.99717817,\n",
       "       6.34259918, 6.19546587, 6.50752968, 6.25280398, 6.87366241,\n",
       "       6.04220482, 6.3439454 , 6.31201838, 6.40552873, 5.7163541 ,\n",
       "       6.24981709, 6.31201838, 7.18725169, 6.81057618, 5.23040629,\n",
       "       7.19510622, 6.74850128, 7.27248346, 7.03449034, 6.71162778,\n",
       "       6.82597506, 6.35161452, 6.82986822, 6.70946896, 5.0791333 ,\n",
       "       5.76732547, 6.9394444 , 6.23063475, 5.400393  , 5.52065992,\n",
       "       5.94256689, 6.21326763, 6.49443647, 6.69822793, 5.9953724 ,\n",
       "       6.43170078, 6.21442015, 6.54511249, 6.42833904, 6.27682046,\n",
       "       6.34439456, 6.56390889, 5.82421955, 6.66095584, 7.1436635 ,\n",
       "       6.11514905, 6.27665172, 6.32830557, 6.36437625, 6.87250608,\n",
       "       6.44622011, 6.01310675, 5.35809279, 6.51519368, 5.87134802,\n",
       "       6.01122441, 6.92742818, 5.78379835, 6.06764461, 5.94147919,\n",
       "       6.74882769, 6.29475803, 6.01495965, 5.57980895, 5.17580739,\n",
       "       6.59864302, 7.02507981, 6.86918414, 6.23050606, 6.73908358,\n",
       "       6.07194234, 6.39442457, 5.12711971, 5.28948008, 7.01872278,\n",
       "       6.88052704, 6.52414899, 6.40774039, 6.91283874, 5.75622201,\n",
       "       6.70536104, 7.14754322, 6.2826206 , 6.78629913, 5.68966124,\n",
       "       6.70183142, 6.13433308, 5.71556561, 6.0975062 , 6.48379771,\n",
       "       6.56251989, 6.32320967, 6.51858476, 7.19253641, 5.47202688,\n",
       "       5.82055162, 6.75759464, 7.05598943, 6.7731183 , 5.8937905 ,\n",
       "       7.04817706, 6.39498126, 6.30425598, 6.16993684, 6.6924967 ,\n",
       "       6.76268133, 5.57836536, 5.70248071, 6.03399345, 6.15326221,\n",
       "       6.50675304, 6.16632544, 6.61616407, 6.80496599, 6.77612708,\n",
       "       5.42829671, 6.01310675, 6.97669191, 6.823061  , 6.76612406,\n",
       "       6.44729824, 7.52324768, 6.94716375, 7.43643451, 6.07838872,\n",
       "       6.06430832, 6.7438942 , 6.20800805, 6.49420832, 6.627173  ,\n",
       "       6.54450782, 6.13186114, 6.25624078, 6.48831148, 5.54050713,\n",
       "       6.11551447, 5.64192797, 7.05879976, 6.81679301, 7.45586169,\n",
       "       6.58611316, 6.86800355, 6.57749544, 5.69123698, 6.39959584,\n",
       "       6.58972793, 7.01680472, 6.57341553, 6.00446536, 6.41892732,\n",
       "       5.28392206, 6.1558463 , 7.10760637, 6.35220698, 6.02950996,\n",
       "       5.94876567, 6.32586702, 5.89651899, 5.91340206, 6.7023244 ,\n",
       "       6.34575929, 6.07567127, 6.48038773, 6.42661033, 6.60566189,\n",
       "       6.35473674, 6.69546559, 6.18256608, 6.56572376, 5.92900176,\n",
       "       6.02789176, 6.37101745, 7.0429442 , 6.15124514, 5.92048364,\n",
       "       5.89627657, 7.28355362, 6.07809702, 7.08630946, 6.55166602,\n",
       "       6.5884666 , 6.58459857, 5.35065015, 5.66398633, 6.94611183,\n",
       "       6.99236923, 6.37088536, 6.31955182, 6.73219742, 6.12513935,\n",
       "       6.82368239, 7.29238752, 6.25476826, 6.89865029, 7.14201853,\n",
       "       5.97263799, 6.06335809, 6.68112409, 6.01849622, 6.68919733,\n",
       "       6.66428648, 6.12972022, 5.99233413])"
      ]
     },
     "execution_count": 128,
     "metadata": {},
     "output_type": "execute_result"
    }
   ],
   "source": [
    "from sklearn.model_selection import cross_val_predict\n",
    "\n",
    "y_valid_predict = cross_val_predict(model, X_train, y_train, cv=kf, n_jobs=-1)\n",
    "y_valid_predict"
   ]
  },
  {
   "cell_type": "code",
   "execution_count": 129,
   "id": "fda0a80b",
   "metadata": {},
   "outputs": [
    {
     "data": {
      "text/plain": [
       "0.27656716741154175"
      ]
     },
     "execution_count": 129,
     "metadata": {},
     "output_type": "execute_result"
    }
   ],
   "source": [
    "mse = np.square(y_train - y_valid_predict).mean()\n",
    "rmse = np.sqrt(mse)\n",
    "rmse"
   ]
  },
  {
   "cell_type": "code",
   "execution_count": 130,
   "id": "0b8240ec",
   "metadata": {},
   "outputs": [
    {
     "data": {
      "text/plain": [
       "<AxesSubplot:xlabel='Precio_log1p'>"
      ]
     },
     "execution_count": 130,
     "metadata": {},
     "output_type": "execute_result"
    },
    {
     "data": {
      "image/png": "[encoded data removed]",
      "text/plain": [
       "<Figure size 640x480 with 1 Axes>"
      ]
     },
     "metadata": {},
     "output_type": "display_data"
    }
   ],
   "source": [
    "sns.regplot(x=y_train, y=y_valid_predict)"
   ]
  },
  {
   "cell_type": "code",
   "execution_count": 131,
   "id": "8ed6a2f0",
   "metadata": {},
   "outputs": [
    {
     "data": {
      "text/plain": [
       "0.7906111647628836"
      ]
     },
     "execution_count": 131,
     "metadata": {},
     "output_type": "execute_result"
    }
   ],
   "source": [
    "from sklearn.metrics import r2_score\n",
    "\n",
    "r2_score(y_train, y_valid_predict)"
   ]
  },
  {
   "cell_type": "code",
   "execution_count": 132,
   "id": "add13c0c",
   "metadata": {
    "scrolled": true
   },
   "outputs": [
    {
     "data": {
      "text/plain": [
       "<AxesSubplot:xlabel='Precio_log1p', ylabel='Density'>"
      ]
     },
     "execution_count": 132,
     "metadata": {},
     "output_type": "execute_result"
    },
    {
     "data": {
      "image/png": "[encoded data removed]",
      "text/plain": [
       "<Figure size 640x480 with 1 Axes>"
      ]
     },
     "metadata": {},
     "output_type": "display_data"
    }
   ],
   "source": [
    "sns.kdeplot(y_train)\n",
    "sns.kdeplot(y_valid_predict)"
   ]
  },
  {
   "cell_type": "code",
   "execution_count": 133,
   "id": "cd047e1d",
   "metadata": {},
   "outputs": [
    {
     "data": {
      "text/plain": [
       "array([5.91053074, 5.58772701, 6.7673334 , 6.74830751, 6.42037298,\n",
       "       7.24319357, 6.06727506, 6.75846032, 7.13351011, 6.6981284 ,\n",
       "       6.28557182, 5.60058867, 6.56950647, 6.65411216, 5.59693437,\n",
       "       5.92561234, 6.68946438, 6.70765297, 6.50974028, 7.07495556,\n",
       "       6.00288837, 5.98306308, 6.53457958, 5.67210349, 6.53872349,\n",
       "       6.62949356, 5.46103085, 6.03031731, 6.59288157, 7.48459634,\n",
       "       6.24605024, 5.7274666 , 6.05976603, 5.99927307, 6.90726901,\n",
       "       5.50791684, 5.43191777, 6.54096892, 5.60058867, 7.1605156 ,\n",
       "       5.19152532, 6.40597991, 7.34728452, 7.30050509, 5.84324375,\n",
       "       6.47681202, 7.16577497, 7.4767215 , 5.48006616, 6.24764982,\n",
       "       7.14013361, 6.56483207, 6.30133471, 5.11556457, 6.60884945,\n",
       "       6.7773429 , 5.64926352, 6.85709706, 6.28952487, 6.12313971,\n",
       "       5.76068801, 6.12918219, 6.60155837, 7.06478023, 5.88136763,\n",
       "       6.91019739, 6.24534437, 6.60811451, 5.92584684, 5.11281107,\n",
       "       6.09525047, 5.30967285, 6.80658256, 7.15297113, 5.65585284,\n",
       "       6.49230581, 5.87800305, 6.21144441, 5.67385034, 6.00582501,\n",
       "       5.58193149, 6.51339821, 7.01060307, 5.57289197, 6.65411216,\n",
       "       7.06321374, 6.27708632, 5.12241789, 6.53872349, 6.27224412,\n",
       "       6.1397101 , 6.22529537, 6.30218127, 6.58153754, 6.27799041,\n",
       "       5.42160668, 6.13561645, 7.0289771 , 6.12313971, 6.56483207,\n",
       "       6.72218573, 5.96014867, 6.39293255, 5.79096552, 6.24532387,\n",
       "       6.6546819 , 6.59509415, 6.22478635, 6.61630229, 5.83508192,\n",
       "       6.88380121, 5.85587051, 6.55957886, 6.87710948, 6.30961288,\n",
       "       6.18065984, 5.5279453 , 5.44000634, 5.87825937, 5.55932649,\n",
       "       6.21924884, 6.08909801, 7.19628526, 6.87749569, 5.56499803,\n",
       "       6.4917334 , 6.73070954, 5.22286828, 6.32106963, 5.95754418,\n",
       "       6.46391949, 6.4917334 , 6.98799929, 6.68468933, 6.39552908,\n",
       "       6.68946438, 6.85960994, 7.02477471, 6.14357679, 6.22525573,\n",
       "       6.29579707, 6.82315454, 5.85993773, 5.15439479, 7.03404866,\n",
       "       6.32590417, 6.91486372, 6.20497571, 6.22536695, 6.82604901,\n",
       "       6.92015095, 5.68737336, 5.53266342, 5.05221107, 6.10091373,\n",
       "       6.71300111, 5.71064169, 5.41582746, 6.88219241, 6.7609154 ,\n",
       "       6.20652446, 6.84655977, 7.10703545, 7.2918312 , 6.91852415,\n",
       "       6.91245921, 5.73624969, 6.28397244, 5.67210349, 7.19625998,\n",
       "       6.62032925, 6.61280426, 6.89929654, 6.87274346, 6.59272579,\n",
       "       5.79343982, 6.81761962, 6.58999118, 6.23991395, 5.80088489,\n",
       "       6.31320849, 5.48809182, 6.78817335, 6.52424275, 5.71096191,\n",
       "       6.18921927, 5.73584664, 7.07315013, 5.66424169, 7.26279214,\n",
       "       7.04240163, 7.18923686, 6.06580103, 7.5296607 , 6.4356009 ,\n",
       "       5.9236511 , 5.98306308, 6.00666916, 5.65585284, 5.96843715,\n",
       "       6.16940029, 6.52651092, 6.46866086, 6.23804851, 6.80983121,\n",
       "       6.46192478, 6.51026891, 6.45954534, 6.50751955, 6.33630901,\n",
       "       6.71559042, 5.64567726, 6.20080715, 6.90940403, 6.15527178,\n",
       "       5.44227878, 5.24656598, 5.42344165, 6.37647211, 5.5137496 ,\n",
       "       6.2296296 , 6.16927823, 6.14694407, 6.40871653, 6.05618495,\n",
       "       5.12371212, 6.23075759, 5.85297712, 6.39556806, 6.9698056 ,\n",
       "       6.30319328, 6.13579918, 6.58964062, 6.13102856, 6.63266887,\n",
       "       5.79936472, 6.83241199, 6.0942141 , 7.01060307, 6.14642186,\n",
       "       6.11258802, 7.22751699, 5.77389618, 6.52628628, 6.28421644,\n",
       "       7.27595302, 4.91825264, 6.39920596, 6.73957217, 6.48948787,\n",
       "       6.72575049, 6.85960994, 6.70317993, 6.20584281, 5.62962263,\n",
       "       5.42495387, 6.9751945 , 6.4565372 , 6.90752515, 7.08356609,\n",
       "       5.95178733, 6.40310189, 6.22734256, 5.98979703, 6.37508101,\n",
       "       6.55396985, 6.33616754, 7.09931843, 6.60118847, 6.90017041,\n",
       "       6.80658256, 6.37688366, 6.33401124, 5.95754418, 6.94599031,\n",
       "       5.44442771, 5.83729506, 6.60174701, 5.97240985, 5.59528057,\n",
       "       6.81935749, 6.51026891, 6.36707106, 6.88227905, 6.89661506,\n",
       "       7.14323367, 6.14601547, 5.88112043, 6.70765297, 5.34685712,\n",
       "       7.06263486, 7.41638613, 6.6582047 , 5.2514005 , 7.20969308,\n",
       "       5.88136763, 5.44442771, 6.80658256, 5.54371125, 6.59915509,\n",
       "       7.07868905, 7.19199679, 6.29579707, 6.22498138, 6.70491966,\n",
       "       6.24269832, 6.41553267, 5.94321264, 5.880576  , 6.61658197,\n",
       "       6.87875158, 6.351636  , 6.72059758, 6.72751936, 6.72682738,\n",
       "       6.0549462 , 5.71357137, 6.59288157, 7.28447206, 6.48282616,\n",
       "       7.05580725, 6.54096892, 6.7945507 , 5.64575248, 5.69065292,\n",
       "       6.14441329, 5.95454254, 5.14634868, 5.84778942, 5.66223983,\n",
       "       6.1606431 , 7.20890812, 6.93875416, 6.56300361, 5.73624969,\n",
       "       5.57723907, 6.3465146 , 6.51484153, 6.89084865, 6.66353167,\n",
       "       5.97524004, 6.94671761, 6.24495441, 6.4867126 , 6.76200141,\n",
       "       6.09291241, 7.18819178, 6.30218127, 5.53097174, 6.60398768])"
      ]
     },
     "execution_count": 133,
     "metadata": {},
     "output_type": "execute_result"
    }
   ],
   "source": [
    "y_predict = model.fit(X_train, y_train).predict(X_test)\n",
    "y_predict"
   ]
  },
  {
   "cell_type": "code",
   "execution_count": 134,
   "id": "e339b505",
   "metadata": {},
   "outputs": [
    {
     "data": {
      "text/plain": [
       "Tipo_Notebook                      0.286360\n",
       "ScreenResolution_1366x768          0.149666\n",
       "GPU_Intel HD Graphics 400          0.057346\n",
       "Disco_32GB Flash Storage           0.030507\n",
       "Disco_256GB SSD                    0.027036\n",
       "GPU_Intel HD Graphics 500          0.024486\n",
       "GPU_Nvidia GeForce GTX 1070        0.022359\n",
       "Disco_512GB SSD                    0.021475\n",
       "GPU_Intel HD Graphics 620          0.018743\n",
       "CPU_Intel Core i3 6006U 2GHz       0.014657\n",
       "Disco_1TB HDD                      0.014640\n",
       "Tipo_Netbook                       0.013270\n",
       "GPU_Intel HD Graphics 520          0.010612\n",
       "Disco_1TB SSD                      0.008768\n",
       "CPU_Intel Core i5 6200U 2.3GHz     0.008602\n",
       "Fabricante_HP                      0.008073\n",
       "CPU_Intel Core i7 7500U 2.7GHz     0.008037\n",
       "GPU_Nvidia GeForce GTX 1050        0.007999\n",
       "CPU_Intel Core i7 7700HQ 2.8GHz    0.007857\n",
       "OS_Windows 10                      0.007233\n",
       "dtype: float64"
      ]
     },
     "execution_count": 134,
     "metadata": {},
     "output_type": "execute_result"
    }
   ],
   "source": [
    "fi = pd.Series(model.feature_importances_)\n",
    "fi.index = model.feature_names_in_\n",
    "fi.nlargest(20)"
   ]
  },
  {
   "cell_type": "code",
   "execution_count": 135,
   "id": "c48af62f",
   "metadata": {},
   "outputs": [
    {
     "data": {
      "text/plain": [
       "<AxesSubplot:>"
      ]
     },
     "execution_count": 135,
     "metadata": {},
     "output_type": "execute_result"
    },
    {
     "data": {
      "image/png": "[encoded data removed]",
      "text/plain": [
       "<Figure size 640x480 with 1 Axes>"
      ]
     },
     "metadata": {},
     "output_type": "display_data"
    }
   ],
   "source": [
    "fi.nlargest(20).plot.barh()"
   ]
  },
  {
   "cell_type": "code",
   "execution_count": 136,
   "id": "e92cea62",
   "metadata": {},
   "outputs": [],
   "source": [
    "sub[\"Precio\"] = np.expm1(y_predict)"
   ]
  },
  {
   "cell_type": "code",
   "execution_count": 137,
   "id": "b98d0aa4",
   "metadata": {},
   "outputs": [
    {
     "data": {
      "text/plain": [
       "'data/laptop/submission_0.27657.csv'"
      ]
     },
     "execution_count": 137,
     "metadata": {},
     "output_type": "execute_result"
    }
   ],
   "source": [
    "file_name = f\"data/laptop/submission_{rmse:.5f}.csv\"\n",
    "file_name"
   ]
  },
  {
   "cell_type": "code",
   "execution_count": 138,
   "id": "cdb9e4d2",
   "metadata": {},
   "outputs": [
    {
     "data": {
      "text/plain": [
       "'data/laptop/submission_0.27657.csv'"
      ]
     },
     "execution_count": 138,
     "metadata": {},
     "output_type": "execute_result"
    }
   ],
   "source": [
    "file_name = f\"data/laptop/submission_{rmse:.5f}.csv\"\n",
    "file_name"
   ]
  }
 ],
 "metadata": {
  "kernelspec": {
   "display_name": "Python 3 (ipykernel)",
   "language": "python",
   "name": "python3"
  },
  "language_info": {
   "codemirror_mode": {
    "name": "ipython",
    "version": 3
   },
   "file_extension": ".py",
   "mimetype": "text/x-python",
   "name": "python",
   "nbconvert_exporter": "python",
   "pygments_lexer": "ipython3",
   "version": "3.9.13"
  },
  "toc": {
   "base_numbering": 1,
   "nav_menu": {},
   "number_sections": true,
   "sideBar": true,
   "skip_h1_title": false,
   "title_cell": "Table of Contents",
   "title_sidebar": "Contents",
   "toc_cell": false,
   "toc_position": {},
   "toc_section_display": true,
   "toc_window_display": false
  }
 },
 "nbformat": 4,
 "nbformat_minor": 5
}
